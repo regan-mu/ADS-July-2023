{
 "cells": [
  {
   "cell_type": "code",
   "execution_count": 14,
   "metadata": {},
   "outputs": [],
   "source": [
    "import pandas as pd\n",
    "df = pd.read_csv('./countries.csv')"
   ]
  },
  {
   "cell_type": "code",
   "execution_count": 15,
   "metadata": {},
   "outputs": [
    {
     "name": "stdout",
     "output_type": "stream",
     "text": [
      "<class 'pandas.core.frame.DataFrame'>\n",
      "RangeIndex: 245 entries, 0 to 244\n",
      "Data columns (total 6 columns):\n",
      " #   Column        Non-Null Count  Dtype  \n",
      "---  ------        --------------  -----  \n",
      " 0   Unnamed: 0.1  245 non-null    int64  \n",
      " 1   Unnamed: 0    245 non-null    int64  \n",
      " 2   country       244 non-null    object \n",
      " 3   latitude      244 non-null    float64\n",
      " 4   longitude     244 non-null    float64\n",
      " 5   name          245 non-null    object \n",
      "dtypes: float64(2), int64(2), object(2)\n",
      "memory usage: 11.6+ KB\n"
     ]
    }
   ],
   "source": [
    "df.info()"
   ]
  },
  {
   "cell_type": "code",
   "execution_count": 16,
   "metadata": {},
   "outputs": [
    {
     "data": {
      "text/html": [
       "<div>\n",
       "<style scoped>\n",
       "    .dataframe tbody tr th:only-of-type {\n",
       "        vertical-align: middle;\n",
       "    }\n",
       "\n",
       "    .dataframe tbody tr th {\n",
       "        vertical-align: top;\n",
       "    }\n",
       "\n",
       "    .dataframe thead th {\n",
       "        text-align: right;\n",
       "    }\n",
       "</style>\n",
       "<table border=\"1\" class=\"dataframe\">\n",
       "  <thead>\n",
       "    <tr style=\"text-align: right;\">\n",
       "      <th></th>\n",
       "      <th>Unnamed: 0.1</th>\n",
       "      <th>Unnamed: 0</th>\n",
       "      <th>country</th>\n",
       "      <th>latitude</th>\n",
       "      <th>longitude</th>\n",
       "      <th>name</th>\n",
       "    </tr>\n",
       "  </thead>\n",
       "  <tbody>\n",
       "    <tr>\n",
       "      <th>0</th>\n",
       "      <td>0</td>\n",
       "      <td>0</td>\n",
       "      <td>AD</td>\n",
       "      <td>42.546245</td>\n",
       "      <td>1.601554</td>\n",
       "      <td>Andorra</td>\n",
       "    </tr>\n",
       "    <tr>\n",
       "      <th>1</th>\n",
       "      <td>1</td>\n",
       "      <td>1</td>\n",
       "      <td>AE</td>\n",
       "      <td>23.424076</td>\n",
       "      <td>53.847818</td>\n",
       "      <td>United Arab Emirates</td>\n",
       "    </tr>\n",
       "    <tr>\n",
       "      <th>2</th>\n",
       "      <td>2</td>\n",
       "      <td>2</td>\n",
       "      <td>AF</td>\n",
       "      <td>33.939110</td>\n",
       "      <td>67.709953</td>\n",
       "      <td>Afghanistan</td>\n",
       "    </tr>\n",
       "    <tr>\n",
       "      <th>3</th>\n",
       "      <td>3</td>\n",
       "      <td>3</td>\n",
       "      <td>AG</td>\n",
       "      <td>17.060816</td>\n",
       "      <td>-61.796428</td>\n",
       "      <td>Antigua and Barbuda</td>\n",
       "    </tr>\n",
       "    <tr>\n",
       "      <th>4</th>\n",
       "      <td>4</td>\n",
       "      <td>4</td>\n",
       "      <td>AI</td>\n",
       "      <td>18.220554</td>\n",
       "      <td>-63.068615</td>\n",
       "      <td>Anguilla</td>\n",
       "    </tr>\n",
       "  </tbody>\n",
       "</table>\n",
       "</div>"
      ],
      "text/plain": [
       "   Unnamed: 0.1  Unnamed: 0 country   latitude  longitude  \\\n",
       "0             0           0      AD  42.546245   1.601554   \n",
       "1             1           1      AE  23.424076  53.847818   \n",
       "2             2           2      AF  33.939110  67.709953   \n",
       "3             3           3      AG  17.060816 -61.796428   \n",
       "4             4           4      AI  18.220554 -63.068615   \n",
       "\n",
       "                   name  \n",
       "0               Andorra  \n",
       "1  United Arab Emirates  \n",
       "2           Afghanistan  \n",
       "3   Antigua and Barbuda  \n",
       "4              Anguilla  "
      ]
     },
     "execution_count": 16,
     "metadata": {},
     "output_type": "execute_result"
    }
   ],
   "source": [
    "df.head()"
   ]
  },
  {
   "cell_type": "code",
   "execution_count": 17,
   "metadata": {},
   "outputs": [
    {
     "data": {
      "text/plain": [
       "Unnamed: 0.1    0\n",
       "Unnamed: 0      0\n",
       "country         1\n",
       "latitude        1\n",
       "longitude       1\n",
       "name            0\n",
       "dtype: int64"
      ]
     },
     "execution_count": 17,
     "metadata": {},
     "output_type": "execute_result"
    }
   ],
   "source": [
    "df.isna().sum()"
   ]
  },
  {
   "cell_type": "code",
   "execution_count": 18,
   "metadata": {},
   "outputs": [],
   "source": [
    "df = df.dropna(axis=0)"
   ]
  },
  {
   "cell_type": "code",
   "execution_count": 19,
   "metadata": {},
   "outputs": [
    {
     "data": {
      "text/plain": [
       "Index(['Unnamed: 0.1', 'Unnamed: 0', 'country', 'latitude', 'longitude',\n",
       "       'name'],\n",
       "      dtype='object')"
      ]
     },
     "execution_count": 19,
     "metadata": {},
     "output_type": "execute_result"
    }
   ],
   "source": [
    "df.columns"
   ]
  },
  {
   "cell_type": "code",
   "execution_count": 39,
   "metadata": {},
   "outputs": [
    {
     "data": {
      "text/html": [
       "<div>\n",
       "<style scoped>\n",
       "    .dataframe tbody tr th:only-of-type {\n",
       "        vertical-align: middle;\n",
       "    }\n",
       "\n",
       "    .dataframe tbody tr th {\n",
       "        vertical-align: top;\n",
       "    }\n",
       "\n",
       "    .dataframe thead th {\n",
       "        text-align: right;\n",
       "    }\n",
       "</style>\n",
       "<table border=\"1\" class=\"dataframe\">\n",
       "  <thead>\n",
       "    <tr style=\"text-align: right;\">\n",
       "      <th></th>\n",
       "      <th>longitude</th>\n",
       "      <th>latitude</th>\n",
       "    </tr>\n",
       "  </thead>\n",
       "  <tbody>\n",
       "    <tr>\n",
       "      <th>0</th>\n",
       "      <td>1.601554</td>\n",
       "      <td>42.546245</td>\n",
       "    </tr>\n",
       "    <tr>\n",
       "      <th>1</th>\n",
       "      <td>53.847818</td>\n",
       "      <td>23.424076</td>\n",
       "    </tr>\n",
       "    <tr>\n",
       "      <th>2</th>\n",
       "      <td>67.709953</td>\n",
       "      <td>33.939110</td>\n",
       "    </tr>\n",
       "    <tr>\n",
       "      <th>3</th>\n",
       "      <td>-61.796428</td>\n",
       "      <td>17.060816</td>\n",
       "    </tr>\n",
       "    <tr>\n",
       "      <th>4</th>\n",
       "      <td>-63.068615</td>\n",
       "      <td>18.220554</td>\n",
       "    </tr>\n",
       "    <tr>\n",
       "      <th>...</th>\n",
       "      <td>...</td>\n",
       "      <td>...</td>\n",
       "    </tr>\n",
       "    <tr>\n",
       "      <th>240</th>\n",
       "      <td>48.516388</td>\n",
       "      <td>15.552727</td>\n",
       "    </tr>\n",
       "    <tr>\n",
       "      <th>241</th>\n",
       "      <td>45.166244</td>\n",
       "      <td>-12.827500</td>\n",
       "    </tr>\n",
       "    <tr>\n",
       "      <th>242</th>\n",
       "      <td>22.937506</td>\n",
       "      <td>-30.559482</td>\n",
       "    </tr>\n",
       "    <tr>\n",
       "      <th>243</th>\n",
       "      <td>27.849332</td>\n",
       "      <td>-13.133897</td>\n",
       "    </tr>\n",
       "    <tr>\n",
       "      <th>244</th>\n",
       "      <td>29.154857</td>\n",
       "      <td>-19.015438</td>\n",
       "    </tr>\n",
       "  </tbody>\n",
       "</table>\n",
       "<p>243 rows × 2 columns</p>\n",
       "</div>"
      ],
      "text/plain": [
       "     longitude   latitude\n",
       "0     1.601554  42.546245\n",
       "1    53.847818  23.424076\n",
       "2    67.709953  33.939110\n",
       "3   -61.796428  17.060816\n",
       "4   -63.068615  18.220554\n",
       "..         ...        ...\n",
       "240  48.516388  15.552727\n",
       "241  45.166244 -12.827500\n",
       "242  22.937506 -30.559482\n",
       "243  27.849332 -13.133897\n",
       "244  29.154857 -19.015438\n",
       "\n",
       "[243 rows x 2 columns]"
      ]
     },
     "execution_count": 39,
     "metadata": {},
     "output_type": "execute_result"
    }
   ],
   "source": [
    "df_cordinates = df[[\"longitude\", \"latitude\"]].copy()\n",
    "df_cordinates"
   ]
  },
  {
   "cell_type": "code",
   "execution_count": 28,
   "metadata": {},
   "outputs": [],
   "source": [
    "from sklearn.cluster import KMeans"
   ]
  },
  {
   "cell_type": "code",
   "execution_count": 29,
   "metadata": {},
   "outputs": [
    {
     "data": {
      "text/plain": [
       "KMeans(n_clusters=5)"
      ]
     },
     "execution_count": 29,
     "metadata": {},
     "output_type": "execute_result"
    }
   ],
   "source": [
    "kmeans = KMeans(n_clusters=5)\n",
    "kmeans.fit(df_cordinates)"
   ]
  },
  {
   "cell_type": "code",
   "execution_count": 30,
   "metadata": {},
   "outputs": [
    {
     "data": {
      "text/plain": [
       "array([1, 4, 4, 3, 3, 1, 1, 3, 4, 4, 3, 2, 1, 0, 3, 1, 1, 3, 0, 1, 1, 1,\n",
       "       4, 4, 1, 3, 0, 3, 3, 3, 0, 4, 4, 1, 3, 3, 0, 4, 4, 4, 1, 1, 2, 3,\n",
       "       4, 0, 3, 3, 3, 1, 0, 1, 1, 1, 4, 1, 3, 3, 1, 3, 1, 1, 1, 4, 1, 4,\n",
       "       1, 0, 3, 0, 1, 1, 4, 1, 3, 1, 3, 1, 1, 1, 1, 1, 1, 3, 4, 1, 3, 3,\n",
       "       0, 1, 3, 1, 0, 4, 3, 1, 3, 1, 0, 1, 1, 1, 4, 4, 4, 4, 1, 1, 1, 3,\n",
       "       1, 0, 4, 4, 0, 2, 4, 3, 0, 0, 4, 3, 4, 0, 1, 3, 1, 4, 1, 4, 1, 1,\n",
       "       1, 1, 1, 1, 1, 1, 4, 0, 1, 1, 0, 0, 0, 0, 3, 1, 3, 1, 4, 4, 4, 3,\n",
       "       0, 4, 0, 1, 0, 1, 3, 1, 1, 0, 0, 2, 0, 4, 3, 3, 2, 0, 0, 4, 1, 3,\n",
       "       2, 3, 1, 1, 0, 3, 4, 4, 1, 1, 0, 4, 4, 0, 4, 4, 1, 0, 4, 1, 1, 1,\n",
       "       1, 1, 1, 4, 3, 4, 3, 1, 4, 3, 1, 4, 1, 0, 4, 2, 0, 4, 1, 2, 1, 3,\n",
       "       0, 0, 4, 1, 4, 3, 3, 4, 1, 3, 3, 3, 3, 0, 0, 2, 2, 1, 4, 4, 4, 4,\n",
       "       4])"
      ]
     },
     "execution_count": 30,
     "metadata": {},
     "output_type": "execute_result"
    }
   ],
   "source": [
    "clusters = kmeans.labels_\n",
    "clusters"
   ]
  },
  {
   "cell_type": "code",
   "execution_count": 31,
   "metadata": {},
   "outputs": [
    {
     "data": {
      "text/html": [
       "<div>\n",
       "<style scoped>\n",
       "    .dataframe tbody tr th:only-of-type {\n",
       "        vertical-align: middle;\n",
       "    }\n",
       "\n",
       "    .dataframe tbody tr th {\n",
       "        vertical-align: top;\n",
       "    }\n",
       "\n",
       "    .dataframe thead th {\n",
       "        text-align: right;\n",
       "    }\n",
       "</style>\n",
       "<table border=\"1\" class=\"dataframe\">\n",
       "  <thead>\n",
       "    <tr style=\"text-align: right;\">\n",
       "      <th></th>\n",
       "      <th>longitude</th>\n",
       "      <th>latitude</th>\n",
       "      <th>cluster</th>\n",
       "    </tr>\n",
       "  </thead>\n",
       "  <tbody>\n",
       "    <tr>\n",
       "      <th>0</th>\n",
       "      <td>1.601554</td>\n",
       "      <td>42.546245</td>\n",
       "      <td>1</td>\n",
       "    </tr>\n",
       "    <tr>\n",
       "      <th>1</th>\n",
       "      <td>53.847818</td>\n",
       "      <td>23.424076</td>\n",
       "      <td>4</td>\n",
       "    </tr>\n",
       "    <tr>\n",
       "      <th>2</th>\n",
       "      <td>67.709953</td>\n",
       "      <td>33.939110</td>\n",
       "      <td>4</td>\n",
       "    </tr>\n",
       "    <tr>\n",
       "      <th>3</th>\n",
       "      <td>-61.796428</td>\n",
       "      <td>17.060816</td>\n",
       "      <td>3</td>\n",
       "    </tr>\n",
       "    <tr>\n",
       "      <th>4</th>\n",
       "      <td>-63.068615</td>\n",
       "      <td>18.220554</td>\n",
       "      <td>3</td>\n",
       "    </tr>\n",
       "    <tr>\n",
       "      <th>...</th>\n",
       "      <td>...</td>\n",
       "      <td>...</td>\n",
       "      <td>...</td>\n",
       "    </tr>\n",
       "    <tr>\n",
       "      <th>240</th>\n",
       "      <td>48.516388</td>\n",
       "      <td>15.552727</td>\n",
       "      <td>4</td>\n",
       "    </tr>\n",
       "    <tr>\n",
       "      <th>241</th>\n",
       "      <td>45.166244</td>\n",
       "      <td>-12.827500</td>\n",
       "      <td>4</td>\n",
       "    </tr>\n",
       "    <tr>\n",
       "      <th>242</th>\n",
       "      <td>22.937506</td>\n",
       "      <td>-30.559482</td>\n",
       "      <td>4</td>\n",
       "    </tr>\n",
       "    <tr>\n",
       "      <th>243</th>\n",
       "      <td>27.849332</td>\n",
       "      <td>-13.133897</td>\n",
       "      <td>4</td>\n",
       "    </tr>\n",
       "    <tr>\n",
       "      <th>244</th>\n",
       "      <td>29.154857</td>\n",
       "      <td>-19.015438</td>\n",
       "      <td>4</td>\n",
       "    </tr>\n",
       "  </tbody>\n",
       "</table>\n",
       "<p>243 rows × 3 columns</p>\n",
       "</div>"
      ],
      "text/plain": [
       "     longitude   latitude  cluster\n",
       "0     1.601554  42.546245        1\n",
       "1    53.847818  23.424076        4\n",
       "2    67.709953  33.939110        4\n",
       "3   -61.796428  17.060816        3\n",
       "4   -63.068615  18.220554        3\n",
       "..         ...        ...      ...\n",
       "240  48.516388  15.552727        4\n",
       "241  45.166244 -12.827500        4\n",
       "242  22.937506 -30.559482        4\n",
       "243  27.849332 -13.133897        4\n",
       "244  29.154857 -19.015438        4\n",
       "\n",
       "[243 rows x 3 columns]"
      ]
     },
     "execution_count": 31,
     "metadata": {},
     "output_type": "execute_result"
    }
   ],
   "source": [
    "df_cordinates[\"cluster\"] = clusters\n",
    "df_cordinates"
   ]
  },
  {
   "cell_type": "code",
   "execution_count": 32,
   "metadata": {},
   "outputs": [
    {
     "data": {
      "text/plain": [
       "<AxesSubplot:xlabel='longitude', ylabel='latitude'>"
      ]
     },
     "execution_count": 32,
     "metadata": {},
     "output_type": "execute_result"
    },
    {
     "data": {
      "image/png": "[encoded data removed]",
      "text/plain": [
       "<Figure size 640x480 with 1 Axes>"
      ]
     },
     "metadata": {},
     "output_type": "display_data"
    }
   ],
   "source": [
    "import seaborn as sns\n",
    "import matplotlib.pyplot as plt\n",
    "\n",
    "sns.scatterplot(x=\"longitude\", y=\"latitude\", hue=\"cluster\", data=df_cordinates)\n",
    "plt.show()"
   ]
  },
  {
   "cell_type": "code",
   "execution_count": 33,
   "metadata": {},
   "outputs": [],
   "source": [
    "# Elbow method"
   ]
  },
  {
   "cell_type": "code",
   "execution_count": 40,
   "metadata": {},
   "outputs": [
    {
     "name": "stdout",
     "output_type": "stream",
     "text": [
      "Silhouette score: 0.5195314620536514\n",
      "Silhouette score: 0.5323092294559625\n",
      "Silhouette score: 0.5370203878899611\n",
      "Silhouette score: 0.47785844807941297\n",
      "Silhouette score: 0.48984021292467483\n",
      "Silhouette score: 0.4639486468042312\n",
      "Silhouette score: 0.4926182428219928\n",
      "Silhouette score: 0.4946101007119683\n",
      "Silhouette score: 0.4738690607871126\n"
     ]
    }
   ],
   "source": [
    "from sklearn.metrics import silhouette_score\n",
    "\n",
    "inertia_values = []\n",
    "for n in range(2,11):\n",
    "    kmeans = KMeans(n_clusters=n)\n",
    "    kmeans.fit(df_cordinates)\n",
    "    # Compute the silhouette score\n",
    "    silhouette_avg = silhouette_score(df_cordinates[[\"latitude\", \"longitude\"]], kmeans.labels_)\n",
    "    print(\"Silhouette score:\", silhouette_avg)\n",
    "    error = kmeans.inertia_\n",
    "    inertia_values.append(error)"
   ]
  },
  {
   "cell_type": "code",
   "execution_count": 38,
   "metadata": {},
   "outputs": [
    {
     "name": "stdout",
     "output_type": "stream",
     "text": [
      "Silhouette score: 0.47785844807941297\n"
     ]
    }
   ],
   "source": [
    "from sklearn.metrics import silhouette_score\n",
    "\n",
    "# Compute the silhouette score\n",
    "silhouette_avg = silhouette_score(df_cordinates[[\"latitude\", \"longitude\"]], df_cordinates[\"cluster\"])\n",
    "\n",
    "print(\"Silhouette score:\", silhouette_avg)"
   ]
  },
  {
   "cell_type": "code",
   "execution_count": 37,
   "metadata": {},
   "outputs": [
    {
     "data": {
      "image/png": "[encoded data removed]",
      "text/plain": [
       "<Figure size 640x480 with 1 Axes>"
      ]
     },
     "metadata": {},
     "output_type": "display_data"
    }
   ],
   "source": [
    "plt.plot(list(range(2,11)), inertia_values)\n",
    "plt.xlabel(\"No. Clusters\")\n",
    "plt.ylabel(\"Inertia\")\n",
    "plt.show()"
   ]
  },
  {
   "cell_type": "code",
   "execution_count": null,
   "metadata": {},
   "outputs": [],
   "source": []
  },
  {
   "cell_type": "code",
   "execution_count": 41,
   "metadata": {},
   "outputs": [],
   "source": [
    "from sklearn.cluster import AgglomerativeClustering\n",
    "\n",
    "# Initialize the AgglomerativeClustering model with the desired number of clusters\n",
    "agglomerative = AgglomerativeClustering(n_clusters=3)\n",
    "\n",
    "# Fit the model to the data and get the cluster assignments for each data point\n",
    "cluster_labels = agglomerative.fit_predict(df_cordinates)"
   ]
  },
  {
   "cell_type": "code",
   "execution_count": 42,
   "metadata": {},
   "outputs": [
    {
     "data": {
      "text/plain": [
       "array([1, 1, 1, 0, 0, 1, 1, 0, 1, 0, 0, 0, 1, 2, 0, 1, 1, 0, 1, 1, 1, 1,\n",
       "       1, 1, 1, 0, 2, 0, 0, 0, 1, 0, 1, 1, 0, 0, 2, 1, 1, 1, 1, 1, 0, 0,\n",
       "       1, 2, 0, 0, 0, 1, 2, 1, 1, 1, 1, 1, 0, 0, 1, 0, 1, 1, 1, 1, 1, 1,\n",
       "       1, 2, 0, 2, 1, 1, 1, 1, 0, 1, 0, 1, 1, 1, 0, 1, 1, 0, 1, 1, 0, 0,\n",
       "       2, 1, 0, 1, 2, 1, 0, 1, 0, 1, 2, 1, 1, 1, 1, 1, 1, 1, 1, 1, 1, 0,\n",
       "       1, 2, 1, 1, 2, 0, 1, 0, 2, 2, 1, 0, 1, 2, 1, 0, 1, 1, 1, 1, 1, 1,\n",
       "       1, 1, 1, 1, 1, 1, 1, 2, 1, 1, 1, 2, 2, 2, 0, 1, 0, 1, 1, 1, 1, 0,\n",
       "       2, 1, 2, 1, 2, 1, 0, 1, 1, 1, 2, 0, 2, 1, 0, 0, 0, 2, 2, 1, 1, 0,\n",
       "       0, 0, 1, 1, 2, 0, 1, 1, 1, 1, 2, 1, 1, 2, 1, 1, 1, 2, 1, 1, 1, 1,\n",
       "       1, 1, 1, 1, 0, 1, 0, 1, 1, 0, 1, 1, 1, 2, 1, 0, 2, 1, 1, 0, 1, 0,\n",
       "       2, 2, 1, 1, 1, 0, 0, 1, 1, 0, 0, 0, 0, 2, 2, 0, 0, 1, 1, 1, 1, 1,\n",
       "       1], dtype=int64)"
      ]
     },
     "execution_count": 42,
     "metadata": {},
     "output_type": "execute_result"
    }
   ],
   "source": [
    "cluster_labels"
   ]
  },
  {
   "cell_type": "code",
   "execution_count": 44,
   "metadata": {},
   "outputs": [
    {
     "data": {
      "text/plain": [
       "0.5211245091790162"
      ]
     },
     "execution_count": 44,
     "metadata": {},
     "output_type": "execute_result"
    }
   ],
   "source": [
    "score = silhouette_score(df_cordinates, cluster_labels)\n",
    "score"
   ]
  },
  {
   "cell_type": "code",
   "execution_count": null,
   "metadata": {},
   "outputs": [],
   "source": []
  },
  {
   "cell_type": "code",
   "execution_count": 45,
   "metadata": {},
   "outputs": [
    {
     "data": {
      "image/png": "[encoded data removed]",
      "text/plain": [
       "<Figure size 1000x700 with 1 Axes>"
      ]
     },
     "metadata": {},
     "output_type": "display_data"
    }
   ],
   "source": [
    "from scipy.cluster.hierarchy import dendrogram, linkage\n",
    "import matplotlib.pyplot as plt\n",
    "\n",
    "# Compute the linkage matrix\n",
    "linked = linkage(df_cordinates, method='ward')\n",
    "\n",
    "# Plot the dendrogram\n",
    "plt.figure(figsize=(10, 7))\n",
    "dendrogram(linked, labels=df_cordinates.index, distance_sort='descending', truncate_mode='level', p=3)\n",
    "plt.xlabel('Data points')\n",
    "plt.ylabel('Euclidean distances')\n",
    "plt.title('Hierarchical Clustering Dendrogram')\n",
    "plt.show()\n"
   ]
  },
  {
   "cell_type": "code",
   "execution_count": null,
   "metadata": {},
   "outputs": [],
   "source": []
  },
  {
   "cell_type": "code",
   "execution_count": null,
   "metadata": {},
   "outputs": [],
   "source": []
  },
  {
   "cell_type": "code",
   "execution_count": 63,
   "metadata": {},
   "outputs": [],
   "source": [
    "from sklearn.cluster import DBSCAN\n",
    "\n",
    "\n",
    "dbscan = DBSCAN(eps=20, min_samples=10)\n",
    "\n",
    "# Fit the model to the data and get the cluster assignments for each data point\n",
    "cluster_labels = dbscan.fit_predict(df_cordinates)\n"
   ]
  },
  {
   "cell_type": "code",
   "execution_count": 64,
   "metadata": {},
   "outputs": [
    {
     "data": {
      "text/plain": [
       "array([ 0,  0,  0,  1,  1,  0,  0,  1,  0, -1, -1, -1,  0, -1,  1,  0,  0,\n",
       "        1,  0,  0,  0,  0,  0,  0,  0,  1,  0, -1,  1,  1,  0, -1,  0,  0,\n",
       "        1, -1,  0,  0,  0,  0,  0,  0, -1, -1,  0,  0,  1,  1,  1,  0,  0,\n",
       "        0,  0,  0,  0,  0,  1,  1,  0,  1,  0,  0,  0,  0,  0,  0,  0, -1,\n",
       "       -1, -1,  0,  0,  0,  0,  1,  0,  1,  0,  0,  0, -1,  0,  0,  1,  0,\n",
       "        0, -1,  1, -1,  0,  1,  0,  0, -1,  1,  0,  1,  0,  0,  0,  0,  0,\n",
       "        0,  0,  0,  0,  0,  0,  0,  1,  0, -1,  0,  0,  0, -1,  0,  1, -1,\n",
       "        0,  0,  1,  0,  0,  0,  1,  0,  0,  0,  0,  0,  0,  0,  0,  0,  0,\n",
       "        0,  0,  0, -1,  0,  0,  0, -1,  0, -1,  1,  0,  1,  0,  0,  0,  0,\n",
       "        1,  0,  0, -1,  0, -1,  0,  1,  0,  0,  0, -1, -1, -1,  0,  1,  1,\n",
       "       -1, -1,  0,  0,  0,  1, -1,  1,  0,  0, -1, -1,  0,  0,  0,  0, -1,\n",
       "        0,  0, -1,  0,  0,  0,  0, -1,  0,  0,  0,  0,  0,  0,  0,  1,  0,\n",
       "        1,  0,  0,  1,  0, -1,  0,  0,  0, -1,  0,  0,  0, -1,  0,  1, -1,\n",
       "        0,  0,  0,  0, -1, -1,  0,  0,  1,  1,  1,  1,  0, -1, -1, -1,  0,\n",
       "        0,  0,  0,  0,  0], dtype=int64)"
      ]
     },
     "execution_count": 64,
     "metadata": {},
     "output_type": "execute_result"
    }
   ],
   "source": [
    "cluster_labels"
   ]
  },
  {
   "cell_type": "code",
   "execution_count": 65,
   "metadata": {},
   "outputs": [
    {
     "data": {
      "text/html": [
       "<div>\n",
       "<style scoped>\n",
       "    .dataframe tbody tr th:only-of-type {\n",
       "        vertical-align: middle;\n",
       "    }\n",
       "\n",
       "    .dataframe tbody tr th {\n",
       "        vertical-align: top;\n",
       "    }\n",
       "\n",
       "    .dataframe thead th {\n",
       "        text-align: right;\n",
       "    }\n",
       "</style>\n",
       "<table border=\"1\" class=\"dataframe\">\n",
       "  <thead>\n",
       "    <tr style=\"text-align: right;\">\n",
       "      <th></th>\n",
       "      <th>longitude</th>\n",
       "      <th>latitude</th>\n",
       "      <th>clusters</th>\n",
       "    </tr>\n",
       "  </thead>\n",
       "  <tbody>\n",
       "    <tr>\n",
       "      <th>0</th>\n",
       "      <td>1.601554</td>\n",
       "      <td>42.546245</td>\n",
       "      <td>0</td>\n",
       "    </tr>\n",
       "    <tr>\n",
       "      <th>1</th>\n",
       "      <td>53.847818</td>\n",
       "      <td>23.424076</td>\n",
       "      <td>0</td>\n",
       "    </tr>\n",
       "    <tr>\n",
       "      <th>2</th>\n",
       "      <td>67.709953</td>\n",
       "      <td>33.939110</td>\n",
       "      <td>0</td>\n",
       "    </tr>\n",
       "    <tr>\n",
       "      <th>3</th>\n",
       "      <td>-61.796428</td>\n",
       "      <td>17.060816</td>\n",
       "      <td>1</td>\n",
       "    </tr>\n",
       "    <tr>\n",
       "      <th>4</th>\n",
       "      <td>-63.068615</td>\n",
       "      <td>18.220554</td>\n",
       "      <td>1</td>\n",
       "    </tr>\n",
       "    <tr>\n",
       "      <th>...</th>\n",
       "      <td>...</td>\n",
       "      <td>...</td>\n",
       "      <td>...</td>\n",
       "    </tr>\n",
       "    <tr>\n",
       "      <th>240</th>\n",
       "      <td>48.516388</td>\n",
       "      <td>15.552727</td>\n",
       "      <td>0</td>\n",
       "    </tr>\n",
       "    <tr>\n",
       "      <th>241</th>\n",
       "      <td>45.166244</td>\n",
       "      <td>-12.827500</td>\n",
       "      <td>0</td>\n",
       "    </tr>\n",
       "    <tr>\n",
       "      <th>242</th>\n",
       "      <td>22.937506</td>\n",
       "      <td>-30.559482</td>\n",
       "      <td>0</td>\n",
       "    </tr>\n",
       "    <tr>\n",
       "      <th>243</th>\n",
       "      <td>27.849332</td>\n",
       "      <td>-13.133897</td>\n",
       "      <td>0</td>\n",
       "    </tr>\n",
       "    <tr>\n",
       "      <th>244</th>\n",
       "      <td>29.154857</td>\n",
       "      <td>-19.015438</td>\n",
       "      <td>0</td>\n",
       "    </tr>\n",
       "  </tbody>\n",
       "</table>\n",
       "<p>243 rows × 3 columns</p>\n",
       "</div>"
      ],
      "text/plain": [
       "     longitude   latitude  clusters\n",
       "0     1.601554  42.546245         0\n",
       "1    53.847818  23.424076         0\n",
       "2    67.709953  33.939110         0\n",
       "3   -61.796428  17.060816         1\n",
       "4   -63.068615  18.220554         1\n",
       "..         ...        ...       ...\n",
       "240  48.516388  15.552727         0\n",
       "241  45.166244 -12.827500         0\n",
       "242  22.937506 -30.559482         0\n",
       "243  27.849332 -13.133897         0\n",
       "244  29.154857 -19.015438         0\n",
       "\n",
       "[243 rows x 3 columns]"
      ]
     },
     "execution_count": 65,
     "metadata": {},
     "output_type": "execute_result"
    }
   ],
   "source": [
    "df_cordinates_copy = df_cordinates.copy()\n",
    "df_cordinates_copy[\"clusters\"] = cluster_labels\n",
    "df_cordinates_copy"
   ]
  },
  {
   "cell_type": "code",
   "execution_count": 66,
   "metadata": {},
   "outputs": [
    {
     "data": {
      "text/html": [
       "<div>\n",
       "<style scoped>\n",
       "    .dataframe tbody tr th:only-of-type {\n",
       "        vertical-align: middle;\n",
       "    }\n",
       "\n",
       "    .dataframe tbody tr th {\n",
       "        vertical-align: top;\n",
       "    }\n",
       "\n",
       "    .dataframe thead th {\n",
       "        text-align: right;\n",
       "    }\n",
       "</style>\n",
       "<table border=\"1\" class=\"dataframe\">\n",
       "  <thead>\n",
       "    <tr style=\"text-align: right;\">\n",
       "      <th></th>\n",
       "      <th>longitude</th>\n",
       "      <th>latitude</th>\n",
       "      <th>clusters</th>\n",
       "    </tr>\n",
       "  </thead>\n",
       "  <tbody>\n",
       "    <tr>\n",
       "      <th>0</th>\n",
       "      <td>-0.071389</td>\n",
       "      <td>-75.250973</td>\n",
       "      <td>-1</td>\n",
       "    </tr>\n",
       "    <tr>\n",
       "      <th>1</th>\n",
       "      <td>-63.616672</td>\n",
       "      <td>-38.416097</td>\n",
       "      <td>-1</td>\n",
       "    </tr>\n",
       "    <tr>\n",
       "      <th>2</th>\n",
       "      <td>-170.132217</td>\n",
       "      <td>-14.270972</td>\n",
       "      <td>-1</td>\n",
       "    </tr>\n",
       "    <tr>\n",
       "      <th>3</th>\n",
       "      <td>133.775136</td>\n",
       "      <td>-25.274398</td>\n",
       "      <td>-1</td>\n",
       "    </tr>\n",
       "    <tr>\n",
       "      <th>4</th>\n",
       "      <td>-63.588653</td>\n",
       "      <td>-16.290154</td>\n",
       "      <td>-1</td>\n",
       "    </tr>\n",
       "    <tr>\n",
       "      <th>5</th>\n",
       "      <td>3.413194</td>\n",
       "      <td>-54.423199</td>\n",
       "      <td>-1</td>\n",
       "    </tr>\n",
       "    <tr>\n",
       "      <th>6</th>\n",
       "      <td>-106.346771</td>\n",
       "      <td>56.130366</td>\n",
       "      <td>-1</td>\n",
       "    </tr>\n",
       "    <tr>\n",
       "      <th>7</th>\n",
       "      <td>-159.777671</td>\n",
       "      <td>-21.236736</td>\n",
       "      <td>-1</td>\n",
       "    </tr>\n",
       "    <tr>\n",
       "      <th>8</th>\n",
       "      <td>-71.542969</td>\n",
       "      <td>-35.675147</td>\n",
       "      <td>-1</td>\n",
       "    </tr>\n",
       "    <tr>\n",
       "      <th>9</th>\n",
       "      <td>179.414413</td>\n",
       "      <td>-16.578193</td>\n",
       "      <td>-1</td>\n",
       "    </tr>\n",
       "    <tr>\n",
       "      <th>10</th>\n",
       "      <td>-59.523613</td>\n",
       "      <td>-51.796253</td>\n",
       "      <td>-1</td>\n",
       "    </tr>\n",
       "    <tr>\n",
       "      <th>11</th>\n",
       "      <td>150.550812</td>\n",
       "      <td>7.425554</td>\n",
       "      <td>-1</td>\n",
       "    </tr>\n",
       "    <tr>\n",
       "      <th>12</th>\n",
       "      <td>-42.604303</td>\n",
       "      <td>71.706936</td>\n",
       "      <td>-1</td>\n",
       "    </tr>\n",
       "    <tr>\n",
       "      <th>13</th>\n",
       "      <td>-36.587909</td>\n",
       "      <td>-54.429579</td>\n",
       "      <td>-1</td>\n",
       "    </tr>\n",
       "    <tr>\n",
       "      <th>14</th>\n",
       "      <td>144.793731</td>\n",
       "      <td>13.444304</td>\n",
       "      <td>-1</td>\n",
       "    </tr>\n",
       "    <tr>\n",
       "      <th>15</th>\n",
       "      <td>73.504158</td>\n",
       "      <td>-53.081810</td>\n",
       "      <td>-1</td>\n",
       "    </tr>\n",
       "    <tr>\n",
       "      <th>16</th>\n",
       "      <td>138.252924</td>\n",
       "      <td>36.204824</td>\n",
       "      <td>-1</td>\n",
       "    </tr>\n",
       "    <tr>\n",
       "      <th>17</th>\n",
       "      <td>-168.734039</td>\n",
       "      <td>-3.370417</td>\n",
       "      <td>-1</td>\n",
       "    </tr>\n",
       "    <tr>\n",
       "      <th>18</th>\n",
       "      <td>127.510093</td>\n",
       "      <td>40.339852</td>\n",
       "      <td>-1</td>\n",
       "    </tr>\n",
       "    <tr>\n",
       "      <th>19</th>\n",
       "      <td>171.184478</td>\n",
       "      <td>7.131474</td>\n",
       "      <td>-1</td>\n",
       "    </tr>\n",
       "    <tr>\n",
       "      <th>20</th>\n",
       "      <td>103.846656</td>\n",
       "      <td>46.862496</td>\n",
       "      <td>-1</td>\n",
       "    </tr>\n",
       "    <tr>\n",
       "      <th>21</th>\n",
       "      <td>145.384690</td>\n",
       "      <td>17.330830</td>\n",
       "      <td>-1</td>\n",
       "    </tr>\n",
       "    <tr>\n",
       "      <th>22</th>\n",
       "      <td>165.618042</td>\n",
       "      <td>-20.904305</td>\n",
       "      <td>-1</td>\n",
       "    </tr>\n",
       "    <tr>\n",
       "      <th>23</th>\n",
       "      <td>167.954712</td>\n",
       "      <td>-29.040835</td>\n",
       "      <td>-1</td>\n",
       "    </tr>\n",
       "    <tr>\n",
       "      <th>24</th>\n",
       "      <td>166.931503</td>\n",
       "      <td>-0.522778</td>\n",
       "      <td>-1</td>\n",
       "    </tr>\n",
       "    <tr>\n",
       "      <th>25</th>\n",
       "      <td>-169.867233</td>\n",
       "      <td>-19.054445</td>\n",
       "      <td>-1</td>\n",
       "    </tr>\n",
       "    <tr>\n",
       "      <th>26</th>\n",
       "      <td>174.885971</td>\n",
       "      <td>-40.900557</td>\n",
       "      <td>-1</td>\n",
       "    </tr>\n",
       "    <tr>\n",
       "      <th>27</th>\n",
       "      <td>-149.406843</td>\n",
       "      <td>-17.679742</td>\n",
       "      <td>-1</td>\n",
       "    </tr>\n",
       "    <tr>\n",
       "      <th>28</th>\n",
       "      <td>143.955550</td>\n",
       "      <td>-6.314993</td>\n",
       "      <td>-1</td>\n",
       "    </tr>\n",
       "    <tr>\n",
       "      <th>29</th>\n",
       "      <td>-127.439308</td>\n",
       "      <td>-24.703615</td>\n",
       "      <td>-1</td>\n",
       "    </tr>\n",
       "    <tr>\n",
       "      <th>30</th>\n",
       "      <td>134.582520</td>\n",
       "      <td>7.514980</td>\n",
       "      <td>-1</td>\n",
       "    </tr>\n",
       "    <tr>\n",
       "      <th>31</th>\n",
       "      <td>-58.443832</td>\n",
       "      <td>-23.442503</td>\n",
       "      <td>-1</td>\n",
       "    </tr>\n",
       "    <tr>\n",
       "      <th>32</th>\n",
       "      <td>105.318756</td>\n",
       "      <td>61.524010</td>\n",
       "      <td>-1</td>\n",
       "    </tr>\n",
       "    <tr>\n",
       "      <th>33</th>\n",
       "      <td>160.156194</td>\n",
       "      <td>-9.645710</td>\n",
       "      <td>-1</td>\n",
       "    </tr>\n",
       "    <tr>\n",
       "      <th>34</th>\n",
       "      <td>-10.030696</td>\n",
       "      <td>-24.143474</td>\n",
       "      <td>-1</td>\n",
       "    </tr>\n",
       "    <tr>\n",
       "      <th>35</th>\n",
       "      <td>69.348557</td>\n",
       "      <td>-49.280366</td>\n",
       "      <td>-1</td>\n",
       "    </tr>\n",
       "    <tr>\n",
       "      <th>36</th>\n",
       "      <td>-171.855881</td>\n",
       "      <td>-8.967363</td>\n",
       "      <td>-1</td>\n",
       "    </tr>\n",
       "    <tr>\n",
       "      <th>37</th>\n",
       "      <td>-175.198242</td>\n",
       "      <td>-21.178986</td>\n",
       "      <td>-1</td>\n",
       "    </tr>\n",
       "    <tr>\n",
       "      <th>38</th>\n",
       "      <td>177.649330</td>\n",
       "      <td>-7.109535</td>\n",
       "      <td>-1</td>\n",
       "    </tr>\n",
       "    <tr>\n",
       "      <th>39</th>\n",
       "      <td>-95.712891</td>\n",
       "      <td>37.090240</td>\n",
       "      <td>-1</td>\n",
       "    </tr>\n",
       "    <tr>\n",
       "      <th>40</th>\n",
       "      <td>-55.765835</td>\n",
       "      <td>-32.522779</td>\n",
       "      <td>-1</td>\n",
       "    </tr>\n",
       "    <tr>\n",
       "      <th>41</th>\n",
       "      <td>166.959158</td>\n",
       "      <td>-15.376706</td>\n",
       "      <td>-1</td>\n",
       "    </tr>\n",
       "    <tr>\n",
       "      <th>42</th>\n",
       "      <td>-177.156097</td>\n",
       "      <td>-13.768752</td>\n",
       "      <td>-1</td>\n",
       "    </tr>\n",
       "    <tr>\n",
       "      <th>43</th>\n",
       "      <td>-172.104629</td>\n",
       "      <td>-13.759029</td>\n",
       "      <td>-1</td>\n",
       "    </tr>\n",
       "  </tbody>\n",
       "</table>\n",
       "</div>"
      ],
      "text/plain": [
       "     longitude   latitude  clusters\n",
       "0    -0.071389 -75.250973        -1\n",
       "1   -63.616672 -38.416097        -1\n",
       "2  -170.132217 -14.270972        -1\n",
       "3   133.775136 -25.274398        -1\n",
       "4   -63.588653 -16.290154        -1\n",
       "5     3.413194 -54.423199        -1\n",
       "6  -106.346771  56.130366        -1\n",
       "7  -159.777671 -21.236736        -1\n",
       "8   -71.542969 -35.675147        -1\n",
       "9   179.414413 -16.578193        -1\n",
       "10  -59.523613 -51.796253        -1\n",
       "11  150.550812   7.425554        -1\n",
       "12  -42.604303  71.706936        -1\n",
       "13  -36.587909 -54.429579        -1\n",
       "14  144.793731  13.444304        -1\n",
       "15   73.504158 -53.081810        -1\n",
       "16  138.252924  36.204824        -1\n",
       "17 -168.734039  -3.370417        -1\n",
       "18  127.510093  40.339852        -1\n",
       "19  171.184478   7.131474        -1\n",
       "20  103.846656  46.862496        -1\n",
       "21  145.384690  17.330830        -1\n",
       "22  165.618042 -20.904305        -1\n",
       "23  167.954712 -29.040835        -1\n",
       "24  166.931503  -0.522778        -1\n",
       "25 -169.867233 -19.054445        -1\n",
       "26  174.885971 -40.900557        -1\n",
       "27 -149.406843 -17.679742        -1\n",
       "28  143.955550  -6.314993        -1\n",
       "29 -127.439308 -24.703615        -1\n",
       "30  134.582520   7.514980        -1\n",
       "31  -58.443832 -23.442503        -1\n",
       "32  105.318756  61.524010        -1\n",
       "33  160.156194  -9.645710        -1\n",
       "34  -10.030696 -24.143474        -1\n",
       "35   69.348557 -49.280366        -1\n",
       "36 -171.855881  -8.967363        -1\n",
       "37 -175.198242 -21.178986        -1\n",
       "38  177.649330  -7.109535        -1\n",
       "39  -95.712891  37.090240        -1\n",
       "40  -55.765835 -32.522779        -1\n",
       "41  166.959158 -15.376706        -1\n",
       "42 -177.156097 -13.768752        -1\n",
       "43 -172.104629 -13.759029        -1"
      ]
     },
     "execution_count": 66,
     "metadata": {},
     "output_type": "execute_result"
    }
   ],
   "source": [
    "outliers = df_cordinates_copy.query(\"clusters < 0\").reset_index(drop=True)\n",
    "outliers"
   ]
  },
  {
   "cell_type": "code",
   "execution_count": 61,
   "metadata": {},
   "outputs": [
    {
     "data": {
      "text/plain": [
       "30"
      ]
     },
     "execution_count": 61,
     "metadata": {},
     "output_type": "execute_result"
    }
   ],
   "source": []
  },
  {
   "cell_type": "code",
   "execution_count": null,
   "metadata": {},
   "outputs": [],
   "source": []
  }
 ],
 "metadata": {
  "kernelspec": {
   "display_name": "base",
   "language": "python",
   "name": "python3"
  },
  "language_info": {
   "codemirror_mode": {
    "name": "ipython",
    "version": 3
   },
   "file_extension": ".py",
   "mimetype": "text/x-python",
   "name": "python",
   "nbconvert_exporter": "python",
   "pygments_lexer": "ipython3",
   "version": "3.9.13"
  },
  "orig_nbformat": 4
 },
 "nbformat": 4,
 "nbformat_minor": 2
}
