{
 "cells": [
  {
   "cell_type": "markdown",
   "metadata": {},
   "source": [
    "# Python Programming Capstone Projects\n",
    "* These projects will test the understanding of various python concepts that we have discussed in the introduction to python section of the course."
   ]
  },
  {
   "cell_type": "markdown",
   "metadata": {},
   "source": [
    "### 1. Rock Paper Scissors Game\n",
    "This project requires mastery of conditional statements, lists and randomization.\n",
    "\n",
    "#### Thought process\n",
    "* Understand what the rock paper scissors game is and how it's played.\n",
    "* Break down the logic.\n",
    "* Implement the logic into code.\n",
    "* Test your code.\n",
    "* Have fun playing the game.\n",
    "Note: Googling is an important part of programming."
   ]
  },
  {
   "cell_type": "code",
   "execution_count": 6,
   "metadata": {},
   "outputs": [
    {
     "name": "stdout",
     "output_type": "stream",
     "text": [
      "Computer chose: rock\n",
      "Player chose: test\n",
      "Invalid choice\n"
     ]
    }
   ],
   "source": [
    "import random\n",
    "options = [\"rock\", \"paper\", \"scissors\"]\n",
    "computer_choice = random.choice(options)\n",
    "player_choice = input(\"Enter your option: (rock, paper, scissors): \").lower()\n",
    "print(f\"Computer chose: {computer_choice}\")\n",
    "print(f\"Player chose: {player_choice}\")\n",
    "\n",
    "if player_choice == computer_choice:\n",
    "    print(\"Draw\")\n",
    "elif player_choice == \"rock\":\n",
    "    if computer_choice == \"scissors\":\n",
    "        print(\"Player wins\")\n",
    "    elif computer_choice == \"paper\":\n",
    "        print(\"Computer wins\")\n",
    "elif player_choice == \"scissors\":\n",
    "    if computer_choice == \"paper\":\n",
    "        print(\"Player wins\")\n",
    "    elif computer_choice == \"rock\":\n",
    "        print(\"Computer wins\")\n",
    "elif player_choice == \"paper\":\n",
    "    if computer_choice == \"rock\":\n",
    "        print(\"Player wins\")\n",
    "    elif computer_choice == \"scissors\":\n",
    "        print(\"Computer wins\")\n",
    "else:\n",
    "    print(\"Invalid choice\")"
   ]
  },
  {
   "cell_type": "code",
   "execution_count": null,
   "metadata": {},
   "outputs": [],
   "source": []
  },
  {
   "cell_type": "markdown",
   "metadata": {},
   "source": [
    "### 2. Contact Book\n",
    "This project requires basic understanding of python dictionaries, lists, functions and OOP.\n",
    "\n",
    "Everyone uses a contact book to save contact details, including name, phone number, and even email address. The main objective of this project is to generate a contact book using python where users can add a new contact, edit, or delete existing contacts and view the details of all their contacts.\n",
    "\n"
   ]
  },
  {
   "cell_type": "code",
   "execution_count": null,
   "metadata": {},
   "outputs": [],
   "source": []
  },
  {
   "cell_type": "code",
   "execution_count": null,
   "metadata": {},
   "outputs": [],
   "source": []
  },
  {
   "cell_type": "markdown",
   "metadata": {},
   "source": [
    "### 3. Caesar Cipher\n",
    "* Build a simple Caesar Cipher with Python.\n",
    "* Research on what the Caesar cipher is and how it works.\n",
    "* Break down the logic and code it."
   ]
  },
  {
   "cell_type": "markdown",
   "metadata": {},
   "source": []
  }
 ],
 "metadata": {
  "kernelspec": {
   "display_name": "base",
   "language": "python",
   "name": "python3"
  },
  "language_info": {
   "codemirror_mode": {
    "name": "ipython",
    "version": 3
   },
   "file_extension": ".py",
   "mimetype": "text/x-python",
   "name": "python",
   "nbconvert_exporter": "python",
   "pygments_lexer": "ipython3",
   "version": "3.9.13"
  },
  "orig_nbformat": 4
 },
 "nbformat": 4,
 "nbformat_minor": 2
}
