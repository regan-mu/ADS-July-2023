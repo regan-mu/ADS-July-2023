{
 "cells": [
  {
   "cell_type": "markdown",
   "id": "1691359c",
   "metadata": {},
   "source": [
    "# Functions and Modules"
   ]
  },
  {
   "cell_type": "markdown",
   "id": "89e87ef0",
   "metadata": {},
   "source": [
    "## Table of Contents\n",
    "\n",
    "### 1 Functions\n",
    "\n",
    "   * Defining functions\n",
    "   * Function arguments and parameters\n",
    "   * Returning values\n",
    "   \n",
    "### 2 Modules\n",
    "\n",
    "   * Importing modules\n",
    "   * Common Python modules (e.g., math, random, datetime)\n",
    "   \n",
    "### 3  Assignment Lab or Practical Work"
   ]
  },
  {
   "cell_type": "code",
   "execution_count": null,
   "id": "6c4998df",
   "metadata": {},
   "outputs": [],
   "source": []
  },
  {
   "cell_type": "markdown",
   "id": "0cc69ced",
   "metadata": {},
   "source": [
    "## Functions\n",
    "\n",
    "- Python functions are named blocks of code that are designed to do one specific job.\n",
    "-  The idea is to put some commonly or repeatedly done tasks together and make a function so that instead of writing the same code again and again for different inputs, we can do the function calls to reuse code contained in it over and over again.\n",
    "- If you need to perform that task multiple times throughout your program, you don’t need to type all the code for the same task again and again; you just call the function dedicated to handling that task, and the call tells Python to run the code inside the function. \n",
    "- Using functions makes your programs easier to write, read, test, and fix."
   ]
  },
  {
   "cell_type": "markdown",
   "id": "4c69ed3c",
   "metadata": {},
   "source": [
    "### Defining a function\n",
    "```python\n",
    "def function_name():\n",
    "    \"\"\"Docstring text\"\"\"\n",
    "    function logic\n",
    "function_name()\n",
    "```"
   ]
  },
  {
   "cell_type": "markdown",
   "id": "d833f906",
   "metadata": {},
   "source": [
    "The example above defines the simplest form of a python function.\n",
    "1. The first line uses the keyword **def** to inform Python that you’re defining a function.\n",
    "    - This is the function definition, which tells Python the name of the function and, if applicable, what kind of information the function needs to do its job. The parentheses hold that information.\n",
    "    - In our example our function does not need any information to do its job.\n",
    "    - Any indented lines that follow def greet_user(): make up the body of the function.\n",
    "2. The text in the second line is a comment called a **docstring**, which describes what the function does. Docstrings are enclosed in triple quotes, which Python looks for when it generates documentation for the functions in your programs.\n",
    "3. Any code the comes after line 2 is the body of the function. (Provided it's still indented)\n",
    "4. In line four (exited the function body) is the **function call**. The call runs the code in the function body."
   ]
  },
  {
   "cell_type": "code",
   "execution_count": null,
   "id": "4ad3d652",
   "metadata": {},
   "outputs": [
    {
     "name": "stdout",
     "output_type": "stream",
     "text": [
      "Hello, world!\n"
     ]
    }
   ],
   "source": [
    "def greet_user():\n",
    "    '''This function Greets the user'''\n",
    "    print('Hello User')\n"
   ]
  },
  {
   "cell_type": "code",
   "execution_count": null,
   "id": "aa67c3d5",
   "metadata": {},
   "outputs": [],
   "source": [
    "greet_user()"
   ]
  },
  {
   "cell_type": "markdown",
   "id": "7df63455",
   "metadata": {},
   "source": [
    "### Passing Information to a Function\n",
    "- Sometime a function needs some information to do its job.\n",
    "- This information is declared in the function definition and also passed to the function during the function call.\n",
    "\n",
    "```python\n",
    "def function_name(parameter):\n",
    "    \"Docstring text\"\n",
    "    function body\n",
    "```\n",
    "- Let's modify our **greet_user()** function to accept the username."
   ]
  },
  {
   "cell_type": "code",
   "execution_count": 3,
   "id": "4f50fe20",
   "metadata": {},
   "outputs": [
    {
     "name": "stdout",
     "output_type": "stream",
     "text": [
      "Hello, Alice!\n"
     ]
    }
   ],
   "source": [
    "def greet_user(name):\n",
    "    \"\"\"This function greets the user by name\"\"\"\n",
    "    print(f'Hello, {name}.')\n",
    "\n",
    "greet_user('Jane')"
   ]
  },
  {
   "cell_type": "markdown",
   "id": "f50ecca0",
   "metadata": {},
   "source": [
    "- The variable **name** in the definition of greet_user() is an example of a **parameter**, a piece of information the function needs to do its job. \n",
    "- The value **'Jane'** in greet_user('Jane') is an example of an **argument**. \n",
    "- An **argument** is a piece of information that is passed from a function call to a function.\n",
    "- When we call the function, we place the value we want the function to work with in parentheses.\n",
    "- **NOTE:** *People sometimes speak of arguments and parameters interchangeably.*"
   ]
  },
  {
   "cell_type": "markdown",
   "id": "7ba85993",
   "metadata": {},
   "source": [
    "### Passing Arguments to Function\n",
    "- A function can have multiple parameters, hence a function call can also have mutiple arguments.\n",
    "- You can pass arguments to your functions in a number of ways.\n",
    "- You can use:\n",
    "    - Positional Arguments.\n",
    "    - Keyword Arguments.\n",
    "    - Default Arguments.\n",
    "    - Arbitrary Arguments"
   ]
  },
  {
   "cell_type": "code",
   "execution_count": null,
   "id": "c772cbee",
   "metadata": {},
   "outputs": [],
   "source": []
  },
  {
   "cell_type": "markdown",
   "id": "4328c2cb",
   "metadata": {},
   "source": [
    "##### Positional Arguments\n",
    "- Arguments are passed in the same order the parameters were written.\n",
    "- Order matters in Positional Arguments."
   ]
  },
  {
   "cell_type": "code",
   "execution_count": null,
   "id": "f2334080",
   "metadata": {},
   "outputs": [],
   "source": [
    "def describe_pet(animal_type, pet_name):\n",
    "    \"\"\"Display information about a pet.\"\"\"\n",
    "    print(f\"\\nI have a {animal_type}.\")\n",
    "    print(f\"My {animal_type}'s name is  {pet_name.title()}.\")\n",
    "describe_pet('dog','harry')"
   ]
  },
  {
   "cell_type": "code",
   "execution_count": null,
   "id": "392d0192",
   "metadata": {},
   "outputs": [],
   "source": [
    "describe_pet(\"cat\", \"Sky\")"
   ]
  },
  {
   "cell_type": "code",
   "execution_count": null,
   "id": "16115270",
   "metadata": {},
   "outputs": [],
   "source": []
  },
  {
   "cell_type": "markdown",
   "id": "5a2165b6",
   "metadata": {},
   "source": [
    "##### Keyword Arguments\n",
    "- A keyword argument is a name-value pair that you pass to a function. \n",
    "- You directly associate the name and the value within the argument, so when you pass the argument to the function, there’s no confusion (you won’t end up with a harry named Dog). \n",
    "- Keyword arguments free you from having to worry about correctly ordering your arguments in the function call, and they clarify the role of each value in the function call."
   ]
  },
  {
   "cell_type": "code",
   "execution_count": null,
   "id": "e4513219",
   "metadata": {},
   "outputs": [],
   "source": [
    "def describe_pet(animal_type, pet_name):\n",
    "    \"\"\"Display information about a pet.\"\"\"\n",
    "    print(f\"\\nI have a {animal_type}.\")\n",
    "    print(f\"My {animal_type}'s name is  {pet_name.title()}.\")\n",
    "describe_pet(pet_name='Simba', animal_type='rabbit')"
   ]
  },
  {
   "cell_type": "code",
   "execution_count": null,
   "id": "71438892",
   "metadata": {},
   "outputs": [],
   "source": []
  },
  {
   "cell_type": "markdown",
   "id": "7710c32e",
   "metadata": {},
   "source": [
    "##### Default Arguments\n",
    "- When writing a function, you can define a default value for each parameter.\n",
    "- If an argument for a parameter is provided in the function call, Python uses the argument value. \n",
    "- If not, it uses the parameter’s default value."
   ]
  },
  {
   "cell_type": "code",
   "execution_count": null,
   "id": "9f835040",
   "metadata": {},
   "outputs": [],
   "source": [
    "def describe_pet(pet_name, animal_type=\"dog\"):\n",
    "    \"\"\"Display information about a pet.\"\"\"\n",
    "    print(f\"\\nI have a {animal_type}.\")\n",
    "    print(f\"My {animal_type}'s name is  {pet_name.title()}.\")\n",
    "describe_pet(pet_name='Sky')"
   ]
  },
  {
   "cell_type": "code",
   "execution_count": null,
   "id": "3466f659",
   "metadata": {},
   "outputs": [],
   "source": [
    "describe_pet(pet_name='Mike', animal_type='cat')"
   ]
  },
  {
   "cell_type": "code",
   "execution_count": null,
   "id": "24ceaad9",
   "metadata": {},
   "outputs": [],
   "source": []
  },
  {
   "cell_type": "markdown",
   "id": "d61000e1",
   "metadata": {},
   "source": [
    "### Functions with Outputs\n",
    "- A function doesn’t always have to display its output directly. \n",
    "- Instead, it can process some data and then return a value or set of values. \n",
    "- The value the function returns is called a **return value**. \n",
    "- The return statement takes a value from inside a function and sends it back to the line that called the function."
   ]
  },
  {
   "cell_type": "code",
   "execution_count": null,
   "id": "e541a0d5",
   "metadata": {},
   "outputs": [],
   "source": [
    "def get_formatted_name(first_name, last_name):\n",
    "    \"\"\"Return a full name, neatly formatted.\"\"\"\n",
    "    full_name = first_name + ' ' + last_name\n",
    "    return full_name.title()\n",
    "inventor = get_formatted_name('Thomas', 'Edison')\n",
    "\n",
    "print(inventor)"
   ]
  },
  {
   "cell_type": "code",
   "execution_count": null,
   "id": "47ade3d7",
   "metadata": {},
   "outputs": [],
   "source": [
    "def squared(n):\n",
    "    return n ** 2\n",
    "result = squared(4)\n",
    "result * 5"
   ]
  },
  {
   "cell_type": "code",
   "execution_count": null,
   "id": "50daa952",
   "metadata": {},
   "outputs": [],
   "source": []
  },
  {
   "cell_type": "markdown",
   "id": "54b9c088",
   "metadata": {},
   "source": [
    "### lambda function \n",
    "A lambda function, also known as an anonymous function, is a way to define a small function in a single line of code without giving it a name. In Python, you can create a lambda function using the lambda keyword."
   ]
  },
  {
   "cell_type": "markdown",
   "id": "00fdbb37",
   "metadata": {},
   "source": [
    "The basic syntax of a lambda function is:"
   ]
  },
  {
   "cell_type": "raw",
   "id": "08ae53fd",
   "metadata": {},
   "source": [
    "lambda arguments: expression"
   ]
  },
  {
   "cell_type": "markdown",
   "id": "87b33de6",
   "metadata": {},
   "source": [
    "where arguments are the input parameters of the function, and expression is the operation to be performed on the input parameters.\n",
    "\n",
    "Here's an example of a lambda function that takes two arguments and returns their sum:"
   ]
  },
  {
   "cell_type": "code",
   "execution_count": 18,
   "id": "a1fbc266",
   "metadata": {},
   "outputs": [
    {
     "name": "stdout",
     "output_type": "stream",
     "text": [
      "5\n"
     ]
    }
   ],
   "source": [
    "sum = lambda x, y: x + y\n",
    "print(sum(2, 3)) # Output: 5\n"
   ]
  },
  {
   "cell_type": "code",
   "execution_count": null,
   "id": "c39bb015",
   "metadata": {},
   "outputs": [],
   "source": []
  },
  {
   "cell_type": "markdown",
   "id": "e1a0fa16",
   "metadata": {},
   "source": [
    "## Modules\n",
    "Modules are files containing Python code. They can define functions, classes, and variables, and can be imported into other Python scripts."
   ]
  },
  {
   "cell_type": "markdown",
   "id": "1529570e",
   "metadata": {},
   "source": [
    "###  Importing modules\n",
    "To use a module in your code, you need to import it using the import keyword"
   ]
  },
  {
   "cell_type": "code",
   "execution_count": 5,
   "id": "77a9a1ca",
   "metadata": {},
   "outputs": [
    {
     "name": "stdout",
     "output_type": "stream",
     "text": [
      "4.0\n"
     ]
    }
   ],
   "source": [
    "import math\n",
    "\n",
    "print(math.sqrt(16))\n"
   ]
  },
  {
   "cell_type": "markdown",
   "id": "ecac272a",
   "metadata": {},
   "source": [
    "You can also import specific functions or classes from a module."
   ]
  },
  {
   "cell_type": "code",
   "execution_count": 6,
   "id": "f4e77626",
   "metadata": {},
   "outputs": [
    {
     "name": "stdout",
     "output_type": "stream",
     "text": [
      "4.0\n"
     ]
    }
   ],
   "source": [
    "from math import sqrt\n",
    "\n",
    "print(sqrt(16))"
   ]
  },
  {
   "cell_type": "markdown",
   "id": "99598e70",
   "metadata": {},
   "source": [
    "### Common Python modules\n",
    "Here are some commonly used Python modules:"
   ]
  },
  {
   "cell_type": "markdown",
   "id": "2872dafa",
   "metadata": {},
   "source": [
    "#### math\n",
    "The math module provides mathematical functions and constants."
   ]
  },
  {
   "cell_type": "code",
   "execution_count": 7,
   "id": "f47cf091",
   "metadata": {},
   "outputs": [
    {
     "name": "stdout",
     "output_type": "stream",
     "text": [
      "3.141592653589793\n",
      "4.0\n"
     ]
    }
   ],
   "source": [
    "import math\n",
    "\n",
    "print(math.pi)\n",
    "print(math.sqrt(16))\n"
   ]
  },
  {
   "cell_type": "markdown",
   "id": "5a37f758",
   "metadata": {},
   "source": [
    "#### random\n",
    "The random module provides functions to generate random numbers"
   ]
  },
  {
   "cell_type": "code",
   "execution_count": 8,
   "id": "5e975b4a",
   "metadata": {},
   "outputs": [
    {
     "name": "stdout",
     "output_type": "stream",
     "text": [
      "6\n"
     ]
    }
   ],
   "source": [
    "import random\n",
    "\n",
    "print(random.randint(1, 6))  # Simulate a dice roll\n"
   ]
  },
  {
   "cell_type": "markdown",
   "id": "b440e51d",
   "metadata": {},
   "source": [
    "#### datetime\n",
    "The datetime module provides functions and classes to work with dates and times."
   ]
  },
  {
   "cell_type": "code",
   "execution_count": 9,
   "id": "1b2c46c1",
   "metadata": {},
   "outputs": [
    {
     "name": "stdout",
     "output_type": "stream",
     "text": [
      "2023-04-18\n",
      "2023-04-18 18:32:37.785923\n"
     ]
    }
   ],
   "source": [
    "import datetime\n",
    "\n",
    "today = datetime.date.today()\n",
    "print(today)\n",
    "\n",
    "now = datetime.datetime.now()\n",
    "print(now)\n"
   ]
  },
  {
   "cell_type": "markdown",
   "id": "8206fc89",
   "metadata": {},
   "source": [
    "# Assignment: Functions and Modules"
   ]
  },
  {
   "cell_type": "markdown",
   "id": "7599fd34",
   "metadata": {},
   "source": [
    "### Create a new Python Repl:\n",
    "\n",
    "* Follow the instructions in the \"Getting Started with Replit Python\" tutorial to create a new Python Repl.\n",
    "* Name your Repl \"Functions and ModulesAssignment\"."
   ]
  },
  {
   "cell_type": "markdown",
   "id": "deff9136",
   "metadata": {},
   "source": [
    "### Problem 1: Functions\n",
    "Create a function called multiply that takes two numbers as arguments and returns their product.\n",
    "\n"
   ]
  },
  {
   "cell_type": "markdown",
   "id": "aa758ebc",
   "metadata": {},
   "source": [
    "### Problem 2: Function arguments and parameters\n",
    "Create a function called describe_person that takes two parameters, name and age, and prints a description of the person.\n",
    "\n"
   ]
  },
  {
   "cell_type": "markdown",
   "id": "98fb66dc",
   "metadata": {},
   "source": [
    "### Problem 3: Returning values\n",
    "\n",
    "Create a function called calculate_area that takes the base and height of a triangle as arguments and returns the area of the triangle.\n",
    "\n"
   ]
  },
  {
   "cell_type": "markdown",
   "id": "68409029",
   "metadata": {},
   "source": [
    "### Problem 4: Importing modules\n",
    "Import the math module and use the sqrt function to calculate the square root of a number.\n",
    "\n"
   ]
  },
  {
   "cell_type": "markdown",
   "id": "2e3f5092",
   "metadata": {},
   "source": [
    "### Problem 5: Common Python modules\n",
    "    \n",
    "Using the random module, create a function called roll_dice that takes the number of sides of a die as an argument and returns a random number between 1 and the number of sides."
   ]
  },
  {
   "cell_type": "markdown",
   "id": "8e2b4ef9",
   "metadata": {},
   "source": [
    "### 6 Share your Python Repl:\n",
    "    \n",
    "Once you have completed the tasks above, share your Repl by following the instructions in the \"Getting Started with Replit Python\" tutorial.\n",
    "Submit the link to your shared Repl as your assignment.\n",
    "\n",
    "Note: If you encounter any difficulties or have questions about Python control flow and loops, you can refer to the Python documentation"
   ]
  },
  {
   "cell_type": "markdown",
   "id": "fdc17fa8",
   "metadata": {},
   "source": [
    "# SOLUTIONS"
   ]
  },
  {
   "cell_type": "code",
   "execution_count": 2,
   "id": "4a975957",
   "metadata": {},
   "outputs": [
    {
     "name": "stdout",
     "output_type": "stream",
     "text": [
      "35\n"
     ]
    }
   ],
   "source": [
    "# 1\n",
    "def multiply(n1, n2):\n",
    "    \"\"\"\n",
    "        Returns product of n1 and n2\n",
    "        param n1: Number 1\n",
    "        param n2: Number 2\n",
    "        returns: Number\n",
    "    \"\"\"\n",
    "    product = n1 * n2\n",
    "    return product\n",
    "result = multiply(5, 7)\n",
    "print(result)\n"
   ]
  },
  {
   "cell_type": "code",
   "execution_count": 4,
   "id": "5dacc074",
   "metadata": {},
   "outputs": [
    {
     "name": "stdout",
     "output_type": "stream",
     "text": [
      "Jake is 29 years old\n"
     ]
    }
   ],
   "source": [
    "#2\n",
    "def describe_person(name, age):\n",
    "    \"\"\"\n",
    "        Creates person description\n",
    "        param name: Name of the person\n",
    "        param age: Age of the person\n",
    "        returns: Person description\n",
    "    \"\"\"\n",
    "    description = f\"{name} is {age} years old\"\n",
    "    return description\n",
    "result = describe_person(\"Jake\", 29)\n",
    "print(result)"
   ]
  },
  {
   "cell_type": "code",
   "execution_count": 6,
   "id": "2415d56f",
   "metadata": {},
   "outputs": [
    {
     "name": "stdout",
     "output_type": "stream",
     "text": [
      "50.0 sq M\n"
     ]
    }
   ],
   "source": [
    "#3\n",
    "def calculate_area(b, h, units):\n",
    "    \"\"\"\n",
    "        Calculates the area of a triangle\n",
    "        param b: Base of the triangle\n",
    "        param h: Height of the triangle\n",
    "        Returns: THe area of the triangle\n",
    "    \"\"\"\n",
    "    area = b/2*h\n",
    "    return f\"{area} sq {units}\"\n",
    "result = calculate_area(20, 5, \"M\")\n",
    "print(result)\n"
   ]
  },
  {
   "cell_type": "code",
   "execution_count": 7,
   "id": "6aaa421a",
   "metadata": {},
   "outputs": [
    {
     "name": "stdout",
     "output_type": "stream",
     "text": [
      "5.0\n"
     ]
    }
   ],
   "source": [
    "#4\n",
    "import math\n",
    "sqrt = math.sqrt(25)\n",
    "print(sqrt)"
   ]
  },
  {
   "cell_type": "code",
   "execution_count": 19,
   "id": "81ebc52c",
   "metadata": {},
   "outputs": [
    {
     "name": "stdout",
     "output_type": "stream",
     "text": [
      "3\n"
     ]
    }
   ],
   "source": [
    "# 5\n",
    "import random\n",
    "def roll_dice(sides):\n",
    "    \"\"\"\n",
    "\n",
    "    \"\"\"\n",
    "    side_up = random.randint(1, sides)\n",
    "    return side_up\n",
    "result = roll_dice(6)\n",
    "print(result)"
   ]
  }
 ],
 "metadata": {
  "kernelspec": {
   "display_name": "Python 3 (ipykernel)",
   "language": "python",
   "name": "python3"
  },
  "language_info": {
   "codemirror_mode": {
    "name": "ipython",
    "version": 3
   },
   "file_extension": ".py",
   "mimetype": "text/x-python",
   "name": "python",
   "nbconvert_exporter": "python",
   "pygments_lexer": "ipython3",
   "version": "3.9.13"
  }
 },
 "nbformat": 4,
 "nbformat_minor": 5
}
