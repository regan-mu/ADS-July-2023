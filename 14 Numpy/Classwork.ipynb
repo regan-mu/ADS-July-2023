{
 "cells": [
  {
   "cell_type": "code",
   "execution_count": 2,
   "id": "091adde3",
   "metadata": {},
   "outputs": [],
   "source": [
    "import numpy as np"
   ]
  },
  {
   "cell_type": "code",
   "execution_count": null,
   "id": "d7f6bf2f",
   "metadata": {},
   "outputs": [],
   "source": []
  },
  {
   "cell_type": "code",
   "execution_count": 3,
   "id": "b95c64e5",
   "metadata": {},
   "outputs": [
    {
     "data": {
      "text/plain": [
       "array([1, 2, 3, 4, 5])"
      ]
     },
     "execution_count": 3,
     "metadata": {},
     "output_type": "execute_result"
    }
   ],
   "source": [
    "array_1 = np.array([1,2,3,4,5])\n",
    "array_1"
   ]
  },
  {
   "cell_type": "code",
   "execution_count": 4,
   "id": "460aed58",
   "metadata": {},
   "outputs": [
    {
     "data": {
      "text/plain": [
       "array([[1, 2, 3],\n",
       "       [4, 5, 6],\n",
       "       [7, 8, 9]])"
      ]
     },
     "execution_count": 4,
     "metadata": {},
     "output_type": "execute_result"
    }
   ],
   "source": [
    "array_2d = np.array([[1,2,3], [4,5,6], [7,8,9]])\n",
    "array_2d"
   ]
  },
  {
   "cell_type": "code",
   "execution_count": 5,
   "id": "6bc2044d",
   "metadata": {},
   "outputs": [
    {
     "data": {
      "text/plain": [
       "array([[[1, 2],\n",
       "        [3, 4]],\n",
       "\n",
       "       [[5, 6],\n",
       "        [7, 8]]])"
      ]
     },
     "execution_count": 5,
     "metadata": {},
     "output_type": "execute_result"
    }
   ],
   "source": [
    "array_3d = np.array([[[1, 2], [3, 4]], [[5, 6], [7, 8]]])\n",
    "array_3d"
   ]
  },
  {
   "cell_type": "code",
   "execution_count": 11,
   "id": "05455d33",
   "metadata": {},
   "outputs": [
    {
     "data": {
      "text/plain": [
       "dtype('int32')"
      ]
     },
     "execution_count": 11,
     "metadata": {},
     "output_type": "execute_result"
    }
   ],
   "source": [
    "array_3d.dtype"
   ]
  },
  {
   "cell_type": "code",
   "execution_count": 17,
   "id": "876bb039",
   "metadata": {},
   "outputs": [
    {
     "data": {
      "text/plain": [
       "5"
      ]
     },
     "execution_count": 17,
     "metadata": {},
     "output_type": "execute_result"
    }
   ],
   "source": [
    "array_1[-1]"
   ]
  },
  {
   "cell_type": "code",
   "execution_count": 18,
   "id": "669de625",
   "metadata": {},
   "outputs": [
    {
     "data": {
      "text/plain": [
       "array([[1, 2, 3],\n",
       "       [4, 5, 6],\n",
       "       [7, 8, 9]])"
      ]
     },
     "execution_count": 18,
     "metadata": {},
     "output_type": "execute_result"
    }
   ],
   "source": [
    "array_2d"
   ]
  },
  {
   "cell_type": "code",
   "execution_count": 25,
   "id": "4febc002",
   "metadata": {},
   "outputs": [
    {
     "data": {
      "text/plain": [
       "array([[2, 3],\n",
       "       [5, 6],\n",
       "       [8, 9]])"
      ]
     },
     "execution_count": 25,
     "metadata": {},
     "output_type": "execute_result"
    }
   ],
   "source": [
    "array_2d[:,1:]"
   ]
  },
  {
   "cell_type": "code",
   "execution_count": 30,
   "id": "a29ed80f",
   "metadata": {},
   "outputs": [
    {
     "data": {
      "text/plain": [
       "(16,)"
      ]
     },
     "execution_count": 30,
     "metadata": {},
     "output_type": "execute_result"
    }
   ],
   "source": [
    "num = [n for n in range(1,17)]\n",
    "arr1 = np.array(num)\n",
    "arr1\n",
    "arr1.shape"
   ]
  },
  {
   "cell_type": "code",
   "execution_count": 33,
   "id": "581dc7d7",
   "metadata": {},
   "outputs": [
    {
     "data": {
      "text/plain": [
       "array([[ 1,  2,  3,  4],\n",
       "       [ 5,  6,  7,  8],\n",
       "       [ 9, 10, 11, 12],\n",
       "       [13, 14, 15, 16]])"
      ]
     },
     "execution_count": 33,
     "metadata": {},
     "output_type": "execute_result"
    }
   ],
   "source": [
    "arr1_reshaped = arr1.reshape(4,4)\n",
    "arr1_reshaped"
   ]
  },
  {
   "cell_type": "code",
   "execution_count": 34,
   "id": "f8679330",
   "metadata": {},
   "outputs": [],
   "source": [
    "arr1_flatten = arr1_reshaped.flatten()"
   ]
  },
  {
   "cell_type": "code",
   "execution_count": 35,
   "id": "47460587",
   "metadata": {},
   "outputs": [
    {
     "data": {
      "text/plain": [
       "array([ 1,  2,  3,  4,  5,  6,  7,  8,  9, 10, 11, 12, 13, 14, 15, 16])"
      ]
     },
     "execution_count": 35,
     "metadata": {},
     "output_type": "execute_result"
    }
   ],
   "source": [
    "arr1_flatten"
   ]
  },
  {
   "cell_type": "code",
   "execution_count": null,
   "id": "ed09ed98",
   "metadata": {},
   "outputs": [],
   "source": []
  },
  {
   "cell_type": "code",
   "execution_count": 47,
   "id": "b7a9b3e1",
   "metadata": {},
   "outputs": [],
   "source": [
    "a = np.array([1, 2, 3])\n",
    "b = np.array([4, 5, 6])\n",
    "total = a + b"
   ]
  },
  {
   "cell_type": "code",
   "execution_count": 37,
   "id": "cd80fb24",
   "metadata": {},
   "outputs": [
    {
     "data": {
      "text/plain": [
       "array([5, 7, 9])"
      ]
     },
     "execution_count": 37,
     "metadata": {},
     "output_type": "execute_result"
    }
   ],
   "source": [
    "total"
   ]
  },
  {
   "cell_type": "code",
   "execution_count": 45,
   "metadata": {},
   "outputs": [
    {
     "data": {
      "text/plain": [
       "array([[ 2,  2,  4],\n",
       "       [ 5,  5,  7],\n",
       "       [ 8,  8, 10]])"
      ]
     },
     "execution_count": 45,
     "metadata": {},
     "output_type": "execute_result"
    }
   ],
   "source": [
    "c = np.array([[1, 2, 3], [4, 5, 6], [7, 8, 9]])\n",
    "d = np.array([1, 0, 1])\n",
    "\n",
    "broadcasted_sum = c + d\n",
    "broadcasted_sum"
   ]
  },
  {
   "cell_type": "code",
   "execution_count": 48,
   "id": "0b158226",
   "metadata": {},
   "outputs": [
    {
     "name": "stdout",
     "output_type": "stream",
     "text": [
      "Square root: [1.         1.41421356 1.73205081 2.         2.23606798 2.44948974\n",
      " 2.64575131 2.82842712 3.         3.16227766 3.31662479 3.46410162\n",
      " 3.60555128 3.74165739 3.87298335 4.        ]\n"
     ]
    }
   ],
   "source": [
    "sqrt_array = np.sqrt(arr1_flatten)\n",
    "print(\"Square root:\", sqrt_array)"
   ]
  },
  {
   "cell_type": "code",
   "execution_count": null,
   "id": "501a6d76",
   "metadata": {},
   "outputs": [],
   "source": []
  },
  {
   "cell_type": "code",
   "execution_count": 49,
   "id": "2056ad93",
   "metadata": {},
   "outputs": [
    {
     "name": "stdout",
     "output_type": "stream",
     "text": [
      "Dot product: 32\n"
     ]
    }
   ],
   "source": [
    "dot_product = np.dot(a, b)\n",
    "print(\"Dot product:\", dot_product)"
   ]
  },
  {
   "cell_type": "code",
   "execution_count": 50,
   "id": "342a0275",
   "metadata": {},
   "outputs": [
    {
     "name": "stdout",
     "output_type": "stream",
     "text": [
      "Cross product: [-3  6 -3]\n"
     ]
    }
   ],
   "source": [
    "a = np.array([1, 2, 3])\n",
    "b = np.array([4, 5, 6])\n",
    "cross_product = np.cross(a, b)\n",
    "print(\"Cross product:\", cross_product)"
   ]
  },
  {
   "cell_type": "code",
   "execution_count": 51,
   "id": "7f2efc9e",
   "metadata": {},
   "outputs": [
    {
     "data": {
      "text/plain": [
       "array([[1, 2, 3],\n",
       "       [4, 5, 6],\n",
       "       [7, 8, 9]])"
      ]
     },
     "execution_count": 51,
     "metadata": {},
     "output_type": "execute_result"
    }
   ],
   "source": [
    "matrix = np.array([[1, 2, 3], [4, 5, 6], [7, 8, 9]])\n",
    "matrix"
   ]
  },
  {
   "cell_type": "code",
   "execution_count": 53,
   "id": "e0813b85",
   "metadata": {},
   "outputs": [
    {
     "data": {
      "text/plain": [
       "array([[1, 4, 7],\n",
       "       [2, 5, 8],\n",
       "       [3, 6, 9]])"
      ]
     },
     "execution_count": 53,
     "metadata": {},
     "output_type": "execute_result"
    }
   ],
   "source": [
    "transpose = matrix.T\n",
    "transpose"
   ]
  },
  {
   "cell_type": "code",
   "execution_count": null,
   "id": "15587009",
   "metadata": {},
   "outputs": [],
   "source": []
  },
  {
   "cell_type": "code",
   "execution_count": 54,
   "id": "ee13e37d",
   "metadata": {},
   "outputs": [],
   "source": [
    "array1 = np.array([[1, 2, 3], [4, 5, 6]])\n",
    "array2 = np.array([[7, 8, 9], [10, 11, 12]])\n",
    "concatenated_rows = np.concatenate((array1, array2), axis=0)"
   ]
  },
  {
   "cell_type": "code",
   "execution_count": 56,
   "id": "56c3be35",
   "metadata": {},
   "outputs": [
    {
     "data": {
      "text/plain": [
       "array([[1, 2, 3],\n",
       "       [4, 5, 6]])"
      ]
     },
     "execution_count": 56,
     "metadata": {},
     "output_type": "execute_result"
    }
   ],
   "source": [
    "array1"
   ]
  },
  {
   "cell_type": "code",
   "execution_count": 57,
   "id": "daf3aacb",
   "metadata": {},
   "outputs": [
    {
     "data": {
      "text/plain": [
       "array([[ 7,  8,  9],\n",
       "       [10, 11, 12]])"
      ]
     },
     "execution_count": 57,
     "metadata": {},
     "output_type": "execute_result"
    }
   ],
   "source": [
    "array2"
   ]
  },
  {
   "cell_type": "code",
   "execution_count": 55,
   "id": "896c0d7c",
   "metadata": {},
   "outputs": [
    {
     "data": {
      "text/plain": [
       "array([[ 1,  2,  3],\n",
       "       [ 4,  5,  6],\n",
       "       [ 7,  8,  9],\n",
       "       [10, 11, 12]])"
      ]
     },
     "execution_count": 55,
     "metadata": {},
     "output_type": "execute_result"
    }
   ],
   "source": [
    "concatenated_rows"
   ]
  },
  {
   "cell_type": "code",
   "execution_count": 58,
   "id": "3ffcf99e",
   "metadata": {},
   "outputs": [],
   "source": [
    "concatenated_cols = np.concatenate((array1, array2), axis=1)"
   ]
  },
  {
   "cell_type": "code",
   "execution_count": 60,
   "id": "6d98a624",
   "metadata": {},
   "outputs": [
    {
     "data": {
      "text/plain": [
       "array([[ 1,  2,  3,  7,  8,  9],\n",
       "       [ 4,  5,  6, 10, 11, 12]])"
      ]
     },
     "execution_count": 60,
     "metadata": {},
     "output_type": "execute_result"
    }
   ],
   "source": [
    "concatenated_cols"
   ]
  },
  {
   "cell_type": "code",
   "execution_count": 62,
   "id": "d8dee98e",
   "metadata": {},
   "outputs": [
    {
     "name": "stdout",
     "output_type": "stream",
     "text": [
      "Horizontal split: [array([[1],\n",
      "       [4]]), array([[2],\n",
      "       [5]]), array([[3],\n",
      "       [6]])]\n"
     ]
    }
   ],
   "source": [
    "hsplit_arrays = np.hsplit(array1, 3)\n",
    "print(\"Horizontal split:\", hsplit_arrays)"
   ]
  },
  {
   "cell_type": "code",
   "execution_count": 63,
   "id": "2814c633",
   "metadata": {},
   "outputs": [
    {
     "name": "stdout",
     "output_type": "stream",
     "text": [
      "Vertical split: [array([[1, 2, 3]]), array([[4, 5, 6]])]\n"
     ]
    }
   ],
   "source": [
    "vsplit_arrays = np.vsplit(array1, 2)\n",
    "print(\"Vertical split:\", vsplit_arrays)"
   ]
  },
  {
   "cell_type": "code",
   "execution_count": 64,
   "id": "3a887c73",
   "metadata": {},
   "outputs": [],
   "source": [
    "array = np.array([1, 2, 3, 4, 5])\n",
    "inserted = np.insert(array, 2, [10, 20, 30])"
   ]
  },
  {
   "cell_type": "code",
   "execution_count": 65,
   "id": "345f5c4d",
   "metadata": {},
   "outputs": [
    {
     "data": {
      "text/plain": [
       "array([1, 2, 3, 4, 5])"
      ]
     },
     "execution_count": 65,
     "metadata": {},
     "output_type": "execute_result"
    }
   ],
   "source": [
    "array"
   ]
  },
  {
   "cell_type": "code",
   "execution_count": 67,
   "id": "16394de1",
   "metadata": {},
   "outputs": [
    {
     "data": {
      "text/plain": [
       "array([1, 4, 5])"
      ]
     },
     "execution_count": 67,
     "metadata": {},
     "output_type": "execute_result"
    }
   ],
   "source": [
    "deleted = np.delete(array, [1, 2])\n",
    "deleted"
   ]
  },
  {
   "cell_type": "code",
   "execution_count": 68,
   "id": "80f81fc8",
   "metadata": {},
   "outputs": [],
   "source": [
    "\n",
    "data = np.array([4, 5, 1, 2, 7, 2, 6, 3, 5, 2])"
   ]
  },
  {
   "cell_type": "code",
   "execution_count": 71,
   "id": "1095e659",
   "metadata": {},
   "outputs": [
    {
     "data": {
      "text/plain": [
       "3.7"
      ]
     },
     "execution_count": 71,
     "metadata": {},
     "output_type": "execute_result"
    }
   ],
   "source": [
    "mean = np.mean(data)\n",
    "mean"
   ]
  },
  {
   "cell_type": "code",
   "execution_count": 73,
   "id": "4a722438",
   "metadata": {},
   "outputs": [
    {
     "data": {
      "text/plain": [
       "3.5"
      ]
     },
     "execution_count": 73,
     "metadata": {},
     "output_type": "execute_result"
    }
   ],
   "source": [
    "median = np.median(data)\n",
    "median"
   ]
  },
  {
   "cell_type": "code",
   "execution_count": 75,
   "id": "21b0b2a7",
   "metadata": {},
   "outputs": [
    {
     "name": "stdout",
     "output_type": "stream",
     "text": [
      "Variance: 3.6100000000000003\n"
     ]
    }
   ],
   "source": [
    "variance = np.var(data)\n",
    "print(\"Variance:\", variance)  # 3.61"
   ]
  },
  {
   "cell_type": "code",
   "execution_count": 78,
   "id": "ca0ada4d",
   "metadata": {},
   "outputs": [
    {
     "name": "stdout",
     "output_type": "stream",
     "text": [
      "Standard Deviation: 1.9000000000000001\n"
     ]
    }
   ],
   "source": [
    "std_dev = np.std(data)\n",
    "print(\"Standard Deviation:\", std_dev) "
   ]
  },
  {
   "cell_type": "code",
   "execution_count": 80,
   "id": "91e7fcb9",
   "metadata": {},
   "outputs": [
    {
     "name": "stdout",
     "output_type": "stream",
     "text": [
      "3.6100000000000003\n"
     ]
    }
   ],
   "source": [
    "print(1.9000000000000001**2)"
   ]
  },
  {
   "cell_type": "code",
   "execution_count": 82,
   "id": "38f9577f",
   "metadata": {},
   "outputs": [
    {
     "name": "stdout",
     "output_type": "stream",
     "text": [
      "Sum: 37\n"
     ]
    }
   ],
   "source": [
    "array_sum = np.sum(data)\n",
    "print(\"Sum:\", array_sum)  "
   ]
  },
  {
   "cell_type": "code",
   "execution_count": 84,
   "id": "b0506e8b",
   "metadata": {},
   "outputs": [
    {
     "name": "stdout",
     "output_type": "stream",
     "text": [
      "Max: 7\n"
     ]
    }
   ],
   "source": [
    "array_max = np.max(data)\n",
    "print(\"Max:\", array_max) "
   ]
  },
  {
   "cell_type": "code",
   "execution_count": 86,
   "id": "3c38e471",
   "metadata": {},
   "outputs": [
    {
     "name": "stdout",
     "output_type": "stream",
     "text": [
      "Min: 1\n"
     ]
    }
   ],
   "source": [
    "array_min = np.min(data)\n",
    "print(\"Min:\", array_min)  # 1"
   ]
  },
  {
   "cell_type": "code",
   "execution_count": 88,
   "id": "d8735d69",
   "metadata": {},
   "outputs": [
    {
     "name": "stdout",
     "output_type": "stream",
     "text": [
      "Argmax: 4\n"
     ]
    }
   ],
   "source": [
    "array_argmax = np.argmax(data)\n",
    "print(\"Argmax:\", array_argmax)"
   ]
  },
  {
   "cell_type": "code",
   "execution_count": 133,
   "id": "61838880",
   "metadata": {},
   "outputs": [
    {
     "name": "stdout",
     "output_type": "stream",
     "text": [
      "Random array with seed 42: 0.3745401188473625\n"
     ]
    }
   ],
   "source": [
    "np.random.seed(42)\n",
    "\n",
    "random_array = np.random.rand()\n",
    "print(\"Random array with seed 42:\", random_array)"
   ]
  }
 ],
 "metadata": {
  "kernelspec": {
   "display_name": "Python 3 (ipykernel)",
   "language": "python",
   "name": "python3"
  },
  "language_info": {
   "codemirror_mode": {
    "name": "ipython",
    "version": 3
   },
   "file_extension": ".py",
   "mimetype": "text/x-python",
   "name": "python",
   "nbconvert_exporter": "python",
   "pygments_lexer": "ipython3",
   "version": "3.9.13"
  }
 },
 "nbformat": 4,
 "nbformat_minor": 5
}
