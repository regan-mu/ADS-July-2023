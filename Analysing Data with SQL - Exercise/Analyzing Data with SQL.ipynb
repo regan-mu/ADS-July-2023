{
 "cells": [
  {
   "cell_type": "markdown",
   "id": "3f5c058d",
   "metadata": {},
   "source": [
    "## Data Analysis with SQL.\n",
    "* In this session we'll attempt to analyse data and answer some business questions with SQL.\n",
    "* We are going to use the [database](https://github.com/lerocha/chinook-database) for this session.\n",
    "* It contains information about a fictional digital music shop.\n",
    "\n",
    "**DATABASE SCHEMA**\n",
    "<img src=\"./images/chinook-schema.svg\" alt=\"Chinook db schema\" width=\"600px\" height=\"400px\">"
   ]
  },
  {
   "cell_type": "code",
   "execution_count": 1,
   "id": "e8fdd4a2",
   "metadata": {},
   "outputs": [],
   "source": [
    "%%capture\n",
    "%load_ext sql\n",
    "%sql sqlite:///chinook.db"
   ]
  },
  {
   "cell_type": "markdown",
   "id": "c37c84eb",
   "metadata": {},
   "source": [
    "### Database summary"
   ]
  },
  {
   "cell_type": "code",
   "execution_count": 2,
   "id": "2d2560c9",
   "metadata": {},
   "outputs": [
    {
     "name": "stdout",
     "output_type": "stream",
     "text": [
      " * sqlite:///chinook.db\n",
      "Done.\n"
     ]
    },
    {
     "data": {
      "text/html": [
       "<table>\n",
       "    <thead>\n",
       "        <tr>\n",
       "            <th>name</th>\n",
       "            <th>type</th>\n",
       "        </tr>\n",
       "    </thead>\n",
       "    <tbody>\n",
       "        <tr>\n",
       "            <td>album</td>\n",
       "            <td>table</td>\n",
       "        </tr>\n",
       "        <tr>\n",
       "            <td>artist</td>\n",
       "            <td>table</td>\n",
       "        </tr>\n",
       "        <tr>\n",
       "            <td>customer</td>\n",
       "            <td>table</td>\n",
       "        </tr>\n",
       "        <tr>\n",
       "            <td>employee</td>\n",
       "            <td>table</td>\n",
       "        </tr>\n",
       "        <tr>\n",
       "            <td>genre</td>\n",
       "            <td>table</td>\n",
       "        </tr>\n",
       "        <tr>\n",
       "            <td>invoice</td>\n",
       "            <td>table</td>\n",
       "        </tr>\n",
       "        <tr>\n",
       "            <td>invoice_line</td>\n",
       "            <td>table</td>\n",
       "        </tr>\n",
       "        <tr>\n",
       "            <td>media_type</td>\n",
       "            <td>table</td>\n",
       "        </tr>\n",
       "        <tr>\n",
       "            <td>playlist</td>\n",
       "            <td>table</td>\n",
       "        </tr>\n",
       "        <tr>\n",
       "            <td>playlist_track</td>\n",
       "            <td>table</td>\n",
       "        </tr>\n",
       "        <tr>\n",
       "            <td>track</td>\n",
       "            <td>table</td>\n",
       "        </tr>\n",
       "    </tbody>\n",
       "</table>"
      ],
      "text/plain": [
       "[('album', 'table'),\n",
       " ('artist', 'table'),\n",
       " ('customer', 'table'),\n",
       " ('employee', 'table'),\n",
       " ('genre', 'table'),\n",
       " ('invoice', 'table'),\n",
       " ('invoice_line', 'table'),\n",
       " ('media_type', 'table'),\n",
       " ('playlist', 'table'),\n",
       " ('playlist_track', 'table'),\n",
       " ('track', 'table')]"
      ]
     },
     "execution_count": 2,
     "metadata": {},
     "output_type": "execute_result"
    }
   ],
   "source": [
    "%%sql\n",
    "SELECT name, type\n",
    "    FROM sqlite_master\n",
    "    WHERE type in (\"table\", \"view\");"
   ]
  },
  {
   "cell_type": "markdown",
   "id": "d4fad9d4",
   "metadata": {},
   "source": [
    "### Context Questions\n",
    "1. **Write a query that gathers data about the invoice with an invoice_id of 5. Include the following columns**\n",
    "> * The id of the track, track_id.\n",
    "> * The name of the track, track_name.\n",
    "> * The name of media type of the track, track_type.\n",
    "> * The price that the customer paid for the track, unit_price.\n",
    "\n",
    "2. **Add a column containing the artists name to the query from the previous question.**\n",
    "> * The column should be called artist_name.\n",
    "> * The column should come last in the result table."
   ]
  },
  {
   "cell_type": "code",
   "execution_count": 12,
   "id": "77001522",
   "metadata": {},
   "outputs": [
    {
     "name": "stdout",
     "output_type": "stream",
     "text": [
      " * sqlite:///chinook.db\n",
      "Done.\n"
     ]
    },
    {
     "data": {
      "text/html": [
       "<table>\n",
       "    <thead>\n",
       "        <tr>\n",
       "            <th>unit_price</th>\n",
       "            <th>track_name</th>\n",
       "            <th>track_type</th>\n",
       "        </tr>\n",
       "    </thead>\n",
       "    <tbody>\n",
       "        <tr>\n",
       "            <td>0.99</td>\n",
       "            <td>Right Next Door to Hell</td>\n",
       "            <td>Protected AAC audio file</td>\n",
       "        </tr>\n",
       "        <tr>\n",
       "            <td>0.99</td>\n",
       "            <td>Dust N&#x27; Bones</td>\n",
       "            <td>Protected AAC audio file</td>\n",
       "        </tr>\n",
       "        <tr>\n",
       "            <td>0.99</td>\n",
       "            <td>Live and Let Die</td>\n",
       "            <td>Protected AAC audio file</td>\n",
       "        </tr>\n",
       "        <tr>\n",
       "            <td>0.99</td>\n",
       "            <td>Don&#x27;t Cry (Original)</td>\n",
       "            <td>Protected AAC audio file</td>\n",
       "        </tr>\n",
       "        <tr>\n",
       "            <td>0.99</td>\n",
       "            <td>Perfect Crime</td>\n",
       "            <td>Protected AAC audio file</td>\n",
       "        </tr>\n",
       "    </tbody>\n",
       "</table>"
      ],
      "text/plain": [
       "[(0.99, 'Right Next Door to Hell', 'Protected AAC audio file'),\n",
       " (0.99, \"Dust N' Bones\", 'Protected AAC audio file'),\n",
       " (0.99, 'Live and Let Die', 'Protected AAC audio file'),\n",
       " (0.99, \"Don't Cry (Original)\", 'Protected AAC audio file'),\n",
       " (0.99, 'Perfect Crime', 'Protected AAC audio file')]"
      ]
     },
     "execution_count": 12,
     "metadata": {},
     "output_type": "execute_result"
    }
   ],
   "source": [
    "%%sql\n",
    "-- QN. 1\n",
    "SELECT \n",
    "    i.unit_price,\n",
    "    t.name AS track_name,\n",
    "    mt.name AS track_type\n",
    "FROM invoice_line AS i\n",
    "INNER JOIN track AS t\n",
    "    ON i.track_id = t.track_id\n",
    "INNER JOIN media_type AS mt\n",
    "    ON t.media_type_id = mt.media_type_id\n",
    "LIMIT 5;"
   ]
  },
  {
   "cell_type": "code",
   "execution_count": 15,
   "id": "dd713566",
   "metadata": {},
   "outputs": [
    {
     "name": "stdout",
     "output_type": "stream",
     "text": [
      " * sqlite:///chinook.db\n",
      "Done.\n"
     ]
    },
    {
     "data": {
      "text/html": [
       "<table>\n",
       "    <thead>\n",
       "        <tr>\n",
       "            <th>unit_price</th>\n",
       "            <th>track_name</th>\n",
       "            <th>track_type</th>\n",
       "            <th>artist_name</th>\n",
       "        </tr>\n",
       "    </thead>\n",
       "    <tbody>\n",
       "        <tr>\n",
       "            <td>0.99</td>\n",
       "            <td>Right Next Door to Hell</td>\n",
       "            <td>Protected AAC audio file</td>\n",
       "            <td>Guns N&#x27; Roses</td>\n",
       "        </tr>\n",
       "        <tr>\n",
       "            <td>0.99</td>\n",
       "            <td>Dust N&#x27; Bones</td>\n",
       "            <td>Protected AAC audio file</td>\n",
       "            <td>Guns N&#x27; Roses</td>\n",
       "        </tr>\n",
       "        <tr>\n",
       "            <td>0.99</td>\n",
       "            <td>Live and Let Die</td>\n",
       "            <td>Protected AAC audio file</td>\n",
       "            <td>Guns N&#x27; Roses</td>\n",
       "        </tr>\n",
       "        <tr>\n",
       "            <td>0.99</td>\n",
       "            <td>Don&#x27;t Cry (Original)</td>\n",
       "            <td>Protected AAC audio file</td>\n",
       "            <td>Guns N&#x27; Roses</td>\n",
       "        </tr>\n",
       "        <tr>\n",
       "            <td>0.99</td>\n",
       "            <td>Perfect Crime</td>\n",
       "            <td>Protected AAC audio file</td>\n",
       "            <td>Guns N&#x27; Roses</td>\n",
       "        </tr>\n",
       "    </tbody>\n",
       "</table>"
      ],
      "text/plain": [
       "[(0.99, 'Right Next Door to Hell', 'Protected AAC audio file', \"Guns N' Roses\"),\n",
       " (0.99, \"Dust N' Bones\", 'Protected AAC audio file', \"Guns N' Roses\"),\n",
       " (0.99, 'Live and Let Die', 'Protected AAC audio file', \"Guns N' Roses\"),\n",
       " (0.99, \"Don't Cry (Original)\", 'Protected AAC audio file', \"Guns N' Roses\"),\n",
       " (0.99, 'Perfect Crime', 'Protected AAC audio file', \"Guns N' Roses\")]"
      ]
     },
     "execution_count": 15,
     "metadata": {},
     "output_type": "execute_result"
    }
   ],
   "source": [
    "%%sql\n",
    "-- QN. 2\n",
    "SELECT \n",
    "    i.unit_price,\n",
    "    t.name AS track_name,\n",
    "    mt.name AS track_type,\n",
    "    ar.name AS artist_name\n",
    "FROM invoice_line AS i\n",
    "INNER JOIN track AS t\n",
    "    ON i.track_id = t.track_id\n",
    "INNER JOIN media_type AS mt\n",
    "    ON t.media_type_id = mt.media_type_id\n",
    "INNER JOIN album AS al\n",
    "    ON al.album_id = t.album_id\n",
    "INNER JOIN artist AS ar\n",
    "    ON ar.artist_id = al.artist_id\n",
    "LIMIT 5;"
   ]
  },
  {
   "cell_type": "code",
   "execution_count": null,
   "id": "94ada69b",
   "metadata": {},
   "outputs": [],
   "source": []
  },
  {
   "cell_type": "markdown",
   "id": "d3d1ee10",
   "metadata": {},
   "source": [
    "### Business Questions\n",
    "1. Write a query that returns information about each employee and their supervisor. (Include **employee_name, employee_title, supervisor_name & supervisor_title**).\n",
    "2. Which sales employee had the most sales?\n",
    "3. Get sales distribution by country.\n",
    "4. Which is the most selling music genre in the store?"
   ]
  },
  {
   "cell_type": "code",
   "execution_count": null,
   "id": "af5f3992",
   "metadata": {},
   "outputs": [],
   "source": []
  },
  {
   "cell_type": "markdown",
   "id": "a6f3aac1",
   "metadata": {},
   "source": [
    "### QN. 1\n",
    "Write a query that returns information about each employee and their supervisor. (Include **employee_name, employee_title, supervisor_name & supervisor_title**)."
   ]
  },
  {
   "cell_type": "code",
   "execution_count": null,
   "id": "143b4057",
   "metadata": {},
   "outputs": [],
   "source": [
    "%%sql\n",
    "SELECT \n",
    "    e1.first_name || \" \" || e1.last_name AS employee_name,\n",
    "    e1.title AS employee_title,\n",
    "    e2.first_name || \" \" || e2.last_name AS supervisor_name,\n",
    "    e2.title AS supervisor_title\n",
    "FROM employee AS e1\n",
    "LEFT JOIN employee AS e2 \n",
    "    ON e2.employee_id=e1.reports_to\n",
    "ORDER BY 1;"
   ]
  },
  {
   "cell_type": "code",
   "execution_count": null,
   "id": "ac39b885",
   "metadata": {},
   "outputs": [],
   "source": []
  },
  {
   "cell_type": "markdown",
   "id": "27aaa20d",
   "metadata": {},
   "source": [
    "### QN. 2\n",
    "Which sales employee had the most sales?"
   ]
  },
  {
   "cell_type": "code",
   "execution_count": null,
   "id": "fdf0e1c6",
   "metadata": {},
   "outputs": [],
   "source": [
    "%%sql\n",
    "WITH sales_staff AS (\n",
    "    SELECT em.first_name || ' ' || em.last_name AS Name, em.hire_date, i.total\n",
    "    FROM employee AS em\n",
    "    INNER JOIN customer AS c ON c.support_rep_id=em.employee_id\n",
    "    INNER JOIN invoice AS i ON i.customer_id=c.customer_id\n",
    "    WHERE em.title=\"Sales Support Agent\"\n",
    ")\n",
    "SELECT Name, hire_date, SUM(total) AS total_sales\n",
    "FROM sales_staff\n",
    "GROUP BY 1\n",
    "ORDER BY 3 DESC;"
   ]
  },
  {
   "cell_type": "code",
   "execution_count": null,
   "id": "3e02861a",
   "metadata": {},
   "outputs": [],
   "source": []
  },
  {
   "cell_type": "markdown",
   "id": "f816fd8a",
   "metadata": {},
   "source": [
    "#### QN 3\n",
    "Get sales distribution by country."
   ]
  },
  {
   "cell_type": "code",
   "execution_count": null,
   "id": "46c73acb",
   "metadata": {},
   "outputs": [],
   "source": [
    "%%sql\n",
    "WITH \n",
    "    customers AS (\n",
    "        SELECT \n",
    "            c.customer_id,\n",
    "            i.total,\n",
    "            CASE\n",
    "                WHEN (\n",
    "                        SELECT COUNT(*)\n",
    "                        FROM customer\n",
    "                        WHERE country=c.country\n",
    "                ) = 1 THEN \"Other\"\n",
    "                ELSE c.country\n",
    "            END AS country\n",
    "        FROM invoice AS i\n",
    "        INNER JOIN customer AS c ON i.customer_id=c.customer_id\n",
    "    ),\n",
    "    customer_by_country AS (\n",
    "        SELECT\n",
    "            country,\n",
    "            COUNT(DISTINCT customer_id) AS unique_customers,\n",
    "            SUM(total) AS country_total_sales,\n",
    "            ROUND(SUM(total)/COUNT(customer_id), 4) AS sales_per_customer\n",
    "        FROM customers\n",
    "        GROUP BY country\n",
    "    )\n",
    "\n",
    "SELECT *,\n",
    "    ROUND(country_total_sales/unique_customers, 4) AS customer_value,\n",
    "    CASE\n",
    "        WHEN country=\"Other\" THEN 1\n",
    "    ELSE 0\n",
    "    END AS sorting\n",
    "FROM customer_by_country\n",
    "ORDER BY sorting ASC, country_total_sales DESC;"
   ]
  },
  {
   "cell_type": "code",
   "execution_count": null,
   "id": "e8ed0953",
   "metadata": {},
   "outputs": [],
   "source": []
  },
  {
   "cell_type": "markdown",
   "id": "2280724b",
   "metadata": {},
   "source": [
    "#### QN 4.\n",
    "Which is the most selling music genre in the store?"
   ]
  },
  {
   "cell_type": "code",
   "execution_count": 14,
   "id": "a8e51824",
   "metadata": {},
   "outputs": [
    {
     "name": "stdout",
     "output_type": "stream",
     "text": [
      " * sqlite:///chinook.db\n",
      "Done.\n"
     ]
    },
    {
     "data": {
      "text/html": [
       "<table>\n",
       "    <thead>\n",
       "        <tr>\n",
       "            <th>Genre</th>\n",
       "            <th>Total_sales</th>\n",
       "            <th>Percentage_sales</th>\n",
       "        </tr>\n",
       "    </thead>\n",
       "    <tbody>\n",
       "        <tr>\n",
       "            <td>Rock</td>\n",
       "            <td>561</td>\n",
       "            <td>53.37773549000951</td>\n",
       "        </tr>\n",
       "        <tr>\n",
       "            <td>Alternative &amp; Punk</td>\n",
       "            <td>130</td>\n",
       "            <td>12.369172216936251</td>\n",
       "        </tr>\n",
       "        <tr>\n",
       "            <td>Metal</td>\n",
       "            <td>124</td>\n",
       "            <td>11.798287345385347</td>\n",
       "        </tr>\n",
       "        <tr>\n",
       "            <td>R&amp;B/Soul</td>\n",
       "            <td>53</td>\n",
       "            <td>5.042816365366318</td>\n",
       "        </tr>\n",
       "        <tr>\n",
       "            <td>Blues</td>\n",
       "            <td>36</td>\n",
       "            <td>3.425309229305423</td>\n",
       "        </tr>\n",
       "        <tr>\n",
       "            <td>Alternative</td>\n",
       "            <td>35</td>\n",
       "            <td>3.3301617507136063</td>\n",
       "        </tr>\n",
       "        <tr>\n",
       "            <td>Pop</td>\n",
       "            <td>22</td>\n",
       "            <td>2.093244529019981</td>\n",
       "        </tr>\n",
       "        <tr>\n",
       "            <td>Latin</td>\n",
       "            <td>22</td>\n",
       "            <td>2.093244529019981</td>\n",
       "        </tr>\n",
       "        <tr>\n",
       "            <td>Hip Hop/Rap</td>\n",
       "            <td>20</td>\n",
       "            <td>1.9029495718363463</td>\n",
       "        </tr>\n",
       "        <tr>\n",
       "            <td>Jazz</td>\n",
       "            <td>14</td>\n",
       "            <td>1.3320647002854424</td>\n",
       "        </tr>\n",
       "    </tbody>\n",
       "</table>"
      ],
      "text/plain": [
       "[('Rock', 561, 53.37773549000951),\n",
       " ('Alternative & Punk', 130, 12.369172216936251),\n",
       " ('Metal', 124, 11.798287345385347),\n",
       " ('R&B/Soul', 53, 5.042816365366318),\n",
       " ('Blues', 36, 3.425309229305423),\n",
       " ('Alternative', 35, 3.3301617507136063),\n",
       " ('Pop', 22, 2.093244529019981),\n",
       " ('Latin', 22, 2.093244529019981),\n",
       " ('Hip Hop/Rap', 20, 1.9029495718363463),\n",
       " ('Jazz', 14, 1.3320647002854424)]"
      ]
     },
     "execution_count": 14,
     "metadata": {},
     "output_type": "execute_result"
    }
   ],
   "source": [
    "%%sql\n",
    "WITH\n",
    "    usa AS (\n",
    "        SELECT \n",
    "            customer_id,\n",
    "            city,\n",
    "            state,\n",
    "            country\n",
    "        FROM customer\n",
    "        WHERE country=\"USA\"\n",
    "    ),\n",
    "    \n",
    "    usa_invoices AS (\n",
    "        SELECT country, i.invoice_id\n",
    "        FROM usa AS c\n",
    "        INNER JOIN invoice AS i ON i.customer_id = c.customer_id\n",
    "    ),\n",
    "    \n",
    "    usa_tracks AS (\n",
    "        SELECT ui.*, t.track_id, t.genre_id\n",
    "        FROM usa_invoices AS ui\n",
    "        INNER JOIN invoice_line AS il ON il.invoice_id=ui.invoice_id\n",
    "        INNER JOIN track AS t ON t.track_id=il.track_id\n",
    "    ),\n",
    "    \n",
    "    usa_genres AS (\n",
    "        SELECT ut.*, g.name\n",
    "        FROM usa_tracks AS ut\n",
    "        INNER JOIN genre AS g ON g.genre_id=ut.genre_id\n",
    "    ),\n",
    "    \n",
    "    genres_sales AS (\n",
    "        SELECT \n",
    "            name AS Genre,\n",
    "            COUNT(*) AS Total_sales\n",
    "        FROM usa_genres\n",
    "        GROUP BY 1\n",
    "        ORDER BY 2 DESC\n",
    "    )\n",
    "SELECT *, (CAST(Total_sales AS Float)/(SELECT SUM(Total_sales) FROM genres_sales)) * 100 AS Percentage_sales\n",
    "FROM genres_sales\n",
    "LIMIT 10;"
   ]
  },
  {
   "cell_type": "markdown",
   "id": "3f56be88",
   "metadata": {},
   "source": [
    "# END"
   ]
  }
 ],
 "metadata": {
  "kernelspec": {
   "display_name": "Python 3 (ipykernel)",
   "language": "python",
   "name": "python3"
  },
  "language_info": {
   "codemirror_mode": {
    "name": "ipython",
    "version": 3
   },
   "file_extension": ".py",
   "mimetype": "text/x-python",
   "name": "python",
   "nbconvert_exporter": "python",
   "pygments_lexer": "ipython3",
   "version": "3.9.13"
  }
 },
 "nbformat": 4,
 "nbformat_minor": 5
}
