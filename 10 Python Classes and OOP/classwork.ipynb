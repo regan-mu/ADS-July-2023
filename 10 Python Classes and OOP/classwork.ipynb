{
 "cells": [
  {
   "cell_type": "code",
   "execution_count": 14,
   "metadata": {},
   "outputs": [],
   "source": [
    "class Car:\n",
    "    \"\"\"\n",
    "        Docstring\n",
    "    \"\"\"\n",
    "    def __init__(self, color, rim_size):\n",
    "        \"\"\"\n",
    "            Constructor\n",
    "        \"\"\"\n",
    "        self.color = color\n",
    "        self.rim_size = rim_size\n",
    "    def hoot(self):\n",
    "        \"\"\"\n",
    "            Docstring\n",
    "        \"\"\"\n",
    "        print(self)\n",
    "        print(\"HooonK\")"
   ]
  },
  {
   "cell_type": "code",
   "execution_count": 15,
   "metadata": {},
   "outputs": [],
   "source": [
    "mycar = Car(\"black\", 18)"
   ]
  },
  {
   "cell_type": "code",
   "execution_count": 18,
   "metadata": {},
   "outputs": [
    {
     "name": "stdout",
     "output_type": "stream",
     "text": [
      "<__main__.Car object at 0x0000026F6F0A1850>\n"
     ]
    }
   ],
   "source": [
    "print(mycar)"
   ]
  },
  {
   "cell_type": "code",
   "execution_count": 16,
   "metadata": {},
   "outputs": [
    {
     "data": {
      "text/plain": [
       "18"
      ]
     },
     "execution_count": 16,
     "metadata": {},
     "output_type": "execute_result"
    }
   ],
   "source": [
    "mycar.rim_size"
   ]
  },
  {
   "cell_type": "code",
   "execution_count": 17,
   "metadata": {},
   "outputs": [
    {
     "name": "stdout",
     "output_type": "stream",
     "text": [
      "<__main__.Car object at 0x0000026F6F0A1850>\n",
      "HooonK\n"
     ]
    }
   ],
   "source": [
    "mycar.hoot()"
   ]
  },
  {
   "cell_type": "code",
   "execution_count": 19,
   "metadata": {},
   "outputs": [
    {
     "data": {
      "text/plain": [
       "'Red'"
      ]
     },
     "execution_count": 19,
     "metadata": {},
     "output_type": "execute_result"
    }
   ],
   "source": [
    "your_car = Car(\"Red\", 16) # Instantiation\n",
    "your_car.color"
   ]
  },
  {
   "cell_type": "code",
   "execution_count": 20,
   "metadata": {},
   "outputs": [
    {
     "name": "stdout",
     "output_type": "stream",
     "text": [
      "<__main__.Car object at 0x0000026F6F0BA2B0>\n"
     ]
    }
   ],
   "source": [
    "your_car.rim_size\n",
    "print(your_car)"
   ]
  },
  {
   "cell_type": "code",
   "execution_count": 21,
   "metadata": {},
   "outputs": [
    {
     "name": "stdout",
     "output_type": "stream",
     "text": [
      "<__main__.Car object at 0x0000026F6F0BA2B0>\n",
      "HooonK\n"
     ]
    }
   ],
   "source": [
    "your_car.hoot()"
   ]
  },
  {
   "cell_type": "code",
   "execution_count": null,
   "metadata": {},
   "outputs": [],
   "source": []
  },
  {
   "cell_type": "code",
   "execution_count": 22,
   "metadata": {},
   "outputs": [
    {
     "name": "stdout",
     "output_type": "stream",
     "text": [
      "Baking a brown chocolate cake for Johnny\n",
      "Decorating the cake with sprinkles...\n",
      "Serving the chocolate cake with sprinkles decoration...\n"
     ]
    }
   ],
   "source": [
    "class Cake:\n",
    "    \"\"\"\n",
    "    \"\"\"\n",
    "    name = \"Johnny\" # Class attribute\n",
    "    def __init__(self, flavor, color, decoration):\n",
    "        # Instance attributes\n",
    "        self.flavor = flavor\n",
    "        self.color = color\n",
    "        self.decoration = decoration\n",
    "\n",
    "    def bake(self):\n",
    "        print(f\"Baking a {self.color} {self.flavor} cake for {self.name}\")\n",
    "\n",
    "    def decorate(self):\n",
    "        print(f\"Decorating the cake with {self.decoration}.\")\n",
    "\n",
    "    def serve(self):\n",
    "        print(f\"Serving the {self.flavor} cake with {self.decoration} decoration\")\n",
    "\n",
    "# Create an object (cake1) using the Cake class\n",
    "cake1 = Cake(\"chocolate\", \"brown\", \"sprinkles\")\n",
    "\n",
    "# Call the methods on the cake1 object\n",
    "cake1.bake()\n",
    "cake1.decorate()\n",
    "cake1.serve()\n",
    "\n",
    "# Output:\n",
    "# Baking a brown chocolate cake...\n",
    "# Decorating the cake with sprinkles...\n",
    "# Serving the chocolate cake with sprinkles decoration...\n"
   ]
  },
  {
   "cell_type": "code",
   "execution_count": 23,
   "metadata": {},
   "outputs": [
    {
     "name": "stdout",
     "output_type": "stream",
     "text": [
      "Baking a brown Vanilla cake for Johnny\n"
     ]
    }
   ],
   "source": [
    "cake2 = Cake(\"Vanilla\", \"brown\", \"Icing\")\n",
    "cake2.bake()"
   ]
  },
  {
   "cell_type": "code",
   "execution_count": 26,
   "metadata": {},
   "outputs": [],
   "source": [
    "cake2.flavor = \"strawberry\""
   ]
  },
  {
   "cell_type": "code",
   "execution_count": 27,
   "metadata": {},
   "outputs": [
    {
     "data": {
      "text/plain": [
       "'strawberry'"
      ]
     },
     "execution_count": 27,
     "metadata": {},
     "output_type": "execute_result"
    }
   ],
   "source": [
    "cake2.flavor"
   ]
  },
  {
   "cell_type": "code",
   "execution_count": 28,
   "metadata": {},
   "outputs": [
    {
     "name": "stdout",
     "output_type": "stream",
     "text": [
      "Baking a brown strawberry cake for Johnny\n"
     ]
    }
   ],
   "source": [
    "cake2.bake()"
   ]
  },
  {
   "cell_type": "code",
   "execution_count": 42,
   "metadata": {},
   "outputs": [],
   "source": [
    "class Car:\n",
    "    \"\"\"A simple attempt to represent a car.\"\"\"\n",
    "    def __init__(self, make, model, year):\n",
    "        self.make = make\n",
    "        self.model = model\n",
    "        self.year = year\n",
    "        self.odometer_reading = 0\n",
    "        self.fuel_tank = 70\n",
    "    def get_descriptive_name(self):\n",
    "        long_name = str(self.year) + ' ' + self.make + ' ' + self.model\n",
    "        return long_name.title()\n",
    "    def read_odometer(self):\n",
    "        print(\"This car has \" + str(self.odometer_reading) + \" miles on it.\")\n",
    "    def update_odometer(self, mileage):\n",
    "        if mileage >= self.odometer_reading:\n",
    "            self.odometer_reading = mileage\n",
    "        else:\n",
    "            print(\"You can't roll back an odometer!\")\n",
    "    def increment_odometer(self, miles):\n",
    "        self.odometer_reading += miles\n",
    "    \n",
    "    def fuel_tank_capacity(self):\n",
    "        print(f\"Fuel tank can take in {self.fuel_tank} litres of petrol\")"
   ]
  },
  {
   "cell_type": "code",
   "execution_count": 43,
   "metadata": {},
   "outputs": [
    {
     "data": {
      "text/plain": [
       "'2018 Nissan Skyline'"
      ]
     },
     "execution_count": 43,
     "metadata": {},
     "output_type": "execute_result"
    }
   ],
   "source": [
    "mycar = Car(\"Nissan\", \"Skyline\", \"2018\")\n",
    "mycar.get_descriptive_name()"
   ]
  },
  {
   "cell_type": "code",
   "execution_count": 44,
   "metadata": {},
   "outputs": [
    {
     "name": "stdout",
     "output_type": "stream",
     "text": [
      "This car has 3000 miles on it.\n"
     ]
    }
   ],
   "source": [
    "mycar.update_odometer(3000)\n",
    "mycar.read_odometer()"
   ]
  },
  {
   "cell_type": "code",
   "execution_count": 45,
   "metadata": {},
   "outputs": [
    {
     "name": "stdout",
     "output_type": "stream",
     "text": [
      "Fuel tank can take in 70 litres of petrol\n"
     ]
    }
   ],
   "source": [
    "mycar.fuel_tank_capacity()"
   ]
  },
  {
   "cell_type": "code",
   "execution_count": 46,
   "metadata": {},
   "outputs": [],
   "source": [
    "class ElectricCar(Car):\n",
    "    def __init__(self, make, model, year):\n",
    "        super().__init__(make, model, year)\n",
    "        self.fuel_tank = None\n",
    "        self.battery_duration = 400\n",
    "    def fuel_tank_capacity(self):\n",
    "        print(f\"Battery can go for {self.battery_duration} miles\")\n",
    "        "
   ]
  },
  {
   "cell_type": "code",
   "execution_count": 47,
   "metadata": {},
   "outputs": [
    {
     "name": "stdout",
     "output_type": "stream",
     "text": [
      "Battery can go for 400 miles\n"
     ]
    }
   ],
   "source": [
    "my_tesla = ElectricCar(\"Tesla\", \"Plaid\", \"2021\")\n",
    "my_tesla.fuel_tank_capacity()"
   ]
  },
  {
   "cell_type": "code",
   "execution_count": 48,
   "metadata": {},
   "outputs": [
    {
     "data": {
      "text/plain": [
       "'2021 Tesla Plaid'"
      ]
     },
     "execution_count": 48,
     "metadata": {},
     "output_type": "execute_result"
    }
   ],
   "source": [
    "my_tesla.get_descriptive_name()"
   ]
  },
  {
   "cell_type": "code",
   "execution_count": 49,
   "metadata": {},
   "outputs": [
    {
     "data": {
      "text/plain": [
       "'2018 Nissan Skyline'"
      ]
     },
     "execution_count": 49,
     "metadata": {},
     "output_type": "execute_result"
    }
   ],
   "source": [
    "mycar.get_descriptive_name()"
   ]
  },
  {
   "cell_type": "code",
   "execution_count": null,
   "metadata": {},
   "outputs": [],
   "source": []
  }
 ],
 "metadata": {
  "kernelspec": {
   "display_name": "base",
   "language": "python",
   "name": "python3"
  },
  "language_info": {
   "codemirror_mode": {
    "name": "ipython",
    "version": 3
   },
   "file_extension": ".py",
   "mimetype": "text/x-python",
   "name": "python",
   "nbconvert_exporter": "python",
   "pygments_lexer": "ipython3",
   "version": "3.9.13"
  },
  "orig_nbformat": 4
 },
 "nbformat": 4,
 "nbformat_minor": 2
}
