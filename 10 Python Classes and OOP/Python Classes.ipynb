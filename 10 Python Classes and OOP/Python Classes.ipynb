{
 "cells": [
  {
   "cell_type": "markdown",
   "metadata": {},
   "source": [
    "# Object Oriented Programming\n",
    "* Object-oriented programming (OOP) is a computer programming paradigm that organizes software design around data, or objects, rather than functions and logic.\n",
    "* Object Oriented programming relies on the concept of classes and objects.\n",
    "* In Python OOP is implemented using **Python Classes**."
   ]
  },
  {
   "cell_type": "markdown",
   "metadata": {},
   "source": [
    "## Python Classes\n",
    "* A class is blueprint for defining Real world objects\n",
    "* A class consists of:-\n",
    "    * **Attributes** - Characteristics of a object.\n",
    "    * **Methods** - Behavior of the object."
   ]
  },
  {
   "attachments": {},
   "cell_type": "markdown",
   "metadata": {},
   "source": [
    "#### Structure of a Class\n",
    "    class ClassName:\n",
    "        def __init__(self, att1, att2):\n",
    "            self.att1 = att1\n",
    "            self.att2 = att2\n",
    "\n",
    "        def classMethod(self):\n",
    "            methodBody\n",
    "            \n",
    "##### __init__()\n",
    "* The __init__ method is the object constructor.\n",
    "* It sets the initial state of the object by assigning the values for th e object's attributes.\n",
    "* All the attributes that an object must have are defined here.\n",
    "* This method can take any number of parameters but the first parameter will always be **self**\n",
    "* When an **instance** is created, the instance is automatically passed to the **self**, so that the new attributes can be defined on that object."
   ]
  },
  {
   "cell_type": "code",
   "execution_count": 1,
   "metadata": {},
   "outputs": [],
   "source": [
    "class Dog:\n",
    "    def __init__(self, name, age):\n",
    "        self.name = name\n",
    "        self.age = age\n",
    "    def bark(self):\n",
    "        print(f\"{self.name} says 'woof! woof!'\")"
   ]
  },
  {
   "cell_type": "markdown",
   "metadata": {},
   "source": [
    "#### Creating a class instance.\n",
    "* An instance is the actual object created by the class(blueprint).\n",
    "* You can have multiple instances of the same class."
   ]
  },
  {
   "cell_type": "code",
   "execution_count": 7,
   "metadata": {},
   "outputs": [],
   "source": [
    "dog1 = Dog(\"Bunny\", 2)"
   ]
  },
  {
   "cell_type": "markdown",
   "metadata": {},
   "source": [
    "###### Accessing Attributes"
   ]
  },
  {
   "cell_type": "code",
   "execution_count": 4,
   "metadata": {},
   "outputs": [
    {
     "name": "stdout",
     "output_type": "stream",
     "text": [
      "Bunny\n"
     ]
    }
   ],
   "source": [
    "print(dog1.name)"
   ]
  },
  {
   "cell_type": "markdown",
   "metadata": {},
   "source": [
    "###### Calling Methods"
   ]
  },
  {
   "cell_type": "code",
   "execution_count": 5,
   "metadata": {},
   "outputs": [
    {
     "name": "stdout",
     "output_type": "stream",
     "text": [
      "Bunny says 'woof! woof!'\n"
     ]
    }
   ],
   "source": [
    "dog1.bark()"
   ]
  },
  {
   "attachments": {},
   "cell_type": "markdown",
   "metadata": {},
   "source": [
    "#### Modifying attributes."
   ]
  },
  {
   "cell_type": "code",
   "execution_count": 8,
   "metadata": {},
   "outputs": [
    {
     "name": "stdout",
     "output_type": "stream",
     "text": [
      "Mike\n"
     ]
    }
   ],
   "source": [
    "dog1.name = \"Mike\"\n",
    "print(dog1.name)"
   ]
  },
  {
   "cell_type": "code",
   "execution_count": 9,
   "metadata": {},
   "outputs": [
    {
     "name": "stdout",
     "output_type": "stream",
     "text": [
      "Mike says 'woof! woof!'\n"
     ]
    }
   ],
   "source": [
    "dog1.bark()"
   ]
  },
  {
   "cell_type": "code",
   "execution_count": 6,
   "metadata": {},
   "outputs": [
    {
     "name": "stdout",
     "output_type": "stream",
     "text": [
      "Sky\n",
      "Sky says 'woof! woof!'\n"
     ]
    }
   ],
   "source": [
    "dog2 = Dog(\"Sky\", 5)\n",
    "print(dog2.name)\n",
    "dog2.bark()"
   ]
  },
  {
   "cell_type": "markdown",
   "metadata": {},
   "source": [
    "### Exercise 1\n",
    "**Restaurant:** \n",
    "* Make a class called Restaurant. \n",
    "* The __init__() method for Restaurant should store two attributes: a restaurant_name and a cuisine_type.\n",
    "* Make a method called describe_restaurant() that prints these two pieces of information, and a method called open_restaurant() that prints a message indicating that the restaurant is open.\n",
    "* Make an instance called restaurant from your class. \n",
    "* Print the two attributes individually, and then call both methods."
   ]
  },
  {
   "cell_type": "code",
   "execution_count": 11,
   "metadata": {},
   "outputs": [
    {
     "name": "stdout",
     "output_type": "stream",
     "text": [
      "Fogo Gaucho is a Brazilian restaurant\n",
      "Fogo Gaucho is now open\n"
     ]
    }
   ],
   "source": [
    "class Restaurant:\n",
    "    def __init__(self, name, cuisine):\n",
    "        self.name = name\n",
    "        self.cuisine = cuisine\n",
    "    def describe_restaurant(self):\n",
    "        print(f\"{self.name} is a {self.cuisine} restaurant\")\n",
    "    def open_restaurant(self):\n",
    "        print(f\"{self.name} is now open\")\n",
    "\n",
    "fogo_gaucho = Restaurant(\"Fogo Gaucho\", \"Brazilian\")\n",
    "fogo_gaucho.describe_restaurant()\n",
    "fogo_gaucho.open_restaurant()"
   ]
  },
  {
   "cell_type": "code",
   "execution_count": 12,
   "metadata": {},
   "outputs": [
    {
     "name": "stdout",
     "output_type": "stream",
     "text": [
      "Amigos is a Mexican restaurant\n",
      "Amigos is now open\n"
     ]
    }
   ],
   "source": [
    "amigos = Restaurant(\"Amigos\", \"Mexican\")\n",
    "amigos.describe_restaurant()\n",
    "amigos.open_restaurant()"
   ]
  },
  {
   "cell_type": "markdown",
   "metadata": {},
   "source": [
    "### Class Attributes vs Instance Attributes\n",
    "* **Instance attributes** are created in the __init__() and are specific to each instance. e.g name of the dog.\n",
    "* **Class attributes** are atttributes that have the same value for all class instances. e.g dog species.\n",
    "* Class a tttributes are defined directly beneath th class name and must always be assigned to an initial value."
   ]
  },
  {
   "cell_type": "code",
   "execution_count": 13,
   "metadata": {},
   "outputs": [
    {
     "name": "stdout",
     "output_type": "stream",
     "text": [
      "Chuck\n",
      "canis familiaris\n"
     ]
    }
   ],
   "source": [
    "class Dog:\n",
    "    species = \"canis familiaris\"\n",
    "    def __init__(self, name, age):\n",
    "        self.name = name\n",
    "        self.age = age\n",
    "chuck = Dog(\"Chuck\", 3)\n",
    "print(chuck.name)\n",
    "print(chuck.species)"
   ]
  },
  {
   "cell_type": "code",
   "execution_count": 14,
   "metadata": {},
   "outputs": [
    {
     "name": "stdout",
     "output_type": "stream",
     "text": [
      "Miles\n",
      "canis familiaris\n"
     ]
    }
   ],
   "source": [
    "miles = Dog(\"Miles\", 5)\n",
    "print(miles.name)\n",
    "print(miles.species)"
   ]
  },
  {
   "cell_type": "markdown",
   "metadata": {},
   "source": [
    "### Class Inheritance.\n",
    "* Inheritance is the ability of an object to inherit methods and characteristics from another object.\n",
    "* **Subclass/child class** is the class that inherits.\n",
    "* **Superclass /parent class** is the class from which methods/attributes are inherited.\n",
    "* When a class inherits from another, it automatically takes all attributes and method of it's parent.\n",
    "* The child class inherits every attribute and method from its parent class but is also free to define new attributes and methods of its own or modify the inherited ones."
   ]
  },
  {
   "cell_type": "code",
   "execution_count": 15,
   "metadata": {},
   "outputs": [],
   "source": [
    "class Car:\n",
    "    \"\"\"A simple attempt to represent a car.\"\"\"\n",
    "    def __init__(self, make, model, year):\n",
    "        self.make = make\n",
    "        self.model = model\n",
    "        self.year = year\n",
    "        self.odometer_reading = 0\n",
    "        self.fuel_tank = 70\n",
    "    def get_descriptive_name(self):\n",
    "        long_name = str(self.year) + ' ' + self.make + ' ' + self.model\n",
    "        return long_name.title()\n",
    "    def read_odometer(self):\n",
    "        print(\"This car has \" + str(self.odometer_reading) + \" miles on it.\")\n",
    "    def update_odometer(self, mileage):\n",
    "        if mileage >= self.odometer_reading:\n",
    "            self.odometer_reading = mileage\n",
    "        else:\n",
    "            print(\"You can't roll back an odometer!\")\n",
    "    def increment_odometer(self, miles):\n",
    "        self.odometer_reading += miles\n",
    "    \n",
    "    def fuel_tank_capacity(self):\n",
    "        print(f\"Fuel tank can take in {self.fuel_tank} litres of petrol\")\n",
    "        "
   ]
  },
  {
   "cell_type": "code",
   "execution_count": 18,
   "metadata": {},
   "outputs": [
    {
     "name": "stdout",
     "output_type": "stream",
     "text": [
      "This car has 10 miles on it.\n"
     ]
    }
   ],
   "source": [
    "car1 = Car(\"Toyota\", \"Crown\", 2016)\n",
    "car1.increment_odometer(10)\n",
    "car1.read_odometer()"
   ]
  },
  {
   "cell_type": "code",
   "execution_count": 19,
   "metadata": {},
   "outputs": [
    {
     "name": "stdout",
     "output_type": "stream",
     "text": [
      "2022 Tesla Cybertruck\n"
     ]
    }
   ],
   "source": [
    "class ElectricCar(Car):\n",
    "    \"\"\"Represent aspects of a car, specific to electric vehicles.\"\"\"\n",
    "    def __init__(self, make, model, year, battery_range):\n",
    "        \"\"\"Initialize attributes of the parent class.\"\"\"\n",
    "        super().__init__(make, model, year)\n",
    "        self.battery_range = battery_range\n",
    "        \n",
    "    def fuel_tank_capacity(self):\n",
    "        print(\"Eletric cars don't have fuel tanks\")\n",
    "    \n",
    "    def get_battery_range(self):\n",
    "        print(f\"Battery range is {self.battery_range} kms\")\n",
    "\n",
    "my_tesla = ElectricCar('tesla', 'CyberTruck', 2022, 500)\n",
    "print(my_tesla.get_descriptive_name())\n",
    "my_tesla.update_odometer(3000)"
   ]
  },
  {
   "cell_type": "code",
   "execution_count": 20,
   "metadata": {},
   "outputs": [
    {
     "name": "stdout",
     "output_type": "stream",
     "text": [
      "Battery range is 500 kms\n"
     ]
    }
   ],
   "source": [
    "my_tesla.get_battery_range()"
   ]
  },
  {
   "cell_type": "code",
   "execution_count": 21,
   "metadata": {},
   "outputs": [
    {
     "name": "stdout",
     "output_type": "stream",
     "text": [
      "Eletric cars don't have fuel tanks\n"
     ]
    }
   ],
   "source": [
    "my_tesla.fuel_tank_capacity()"
   ]
  },
  {
   "cell_type": "code",
   "execution_count": 22,
   "metadata": {},
   "outputs": [
    {
     "name": "stdout",
     "output_type": "stream",
     "text": [
      "Fuel tank can take in 70 litres of petrol\n"
     ]
    }
   ],
   "source": [
    "car1.fuel_tank_capacity()"
   ]
  },
  {
   "cell_type": "markdown",
   "metadata": {},
   "source": [
    "#### Overriding Methods\n",
    "* You can override any method from the parent class that doesn’t fit what you’re trying to model with the child class. \n",
    "* To do this, you define a method in the child class with the same name as the method you want to override in the parent class.\n",
    "* Python will disregard the parent class method and only pay attention to the method you define in the child class."
   ]
  },
  {
   "cell_type": "code",
   "execution_count": null,
   "metadata": {},
   "outputs": [],
   "source": []
  },
  {
   "cell_type": "markdown",
   "metadata": {},
   "source": [
    "\n",
    "##  Principles of OOP:\n",
    "\n",
    "### Encapsulation\n",
    "* This is the process of preventing access of certain attributes, method or inner working of an object by clients, other objects or programs using these objects.\n",
    "* Each object maintains a private state, inside a class. \n",
    "* Other objects can not access this state directly, instead, they can only invoke a list of public functions.\n",
    "\n",
    "### Abstraction\n",
    "* It is the process of selecting data from a larger pool to show only the relevant details to the object hence reducing the complexity.\n",
    "\n",
    "### Inheritance\n",
    "* Inheritance is the ability of one object to acquire some/all properties of another object.\n",
    "\n",
    "### Polymorphism\n",
    "* **Polymorphism** come from the greek language. it means ***many forms***.\n",
    "* It refers to ability of a subclass to adapt a method that alreadyexists in its superclass to meet it's needs.\n",
    "* The subclass can use the method as it is or it can modify it as needed.\n",
    " \n"
   ]
  },
  {
   "cell_type": "markdown",
   "metadata": {},
   "source": [
    "**Read More**\n",
    "* https://info.keylimeinteractive.com/the-four-pillars-of-object-oriented-programming\n",
    "* https://www.freecodecamp.org/news/object-oriented-programming-in-python/"
   ]
  },
  {
   "cell_type": "markdown",
   "metadata": {},
   "source": [
    "## Anaconda\n",
    "* Anaconda is an open-source distribution of the Python and R programming languages for data science that aims to simplify package management and deployment.\n",
    "### Jupyter Notebooks\n",
    "* Jupyter Notebook is a powerful tool for interactively developing and presenting data science projects.\n",
    "* A notebook integrates code and its output into a single document that combines visualizations, narrative text, mathematical equations, and other rich media."
   ]
  },
  {
   "cell_type": "markdown",
   "metadata": {},
   "source": [
    "# END"
   ]
  }
 ],
 "metadata": {
  "kernelspec": {
   "display_name": "Python 3 (ipykernel)",
   "language": "python",
   "name": "python3"
  },
  "language_info": {
   "codemirror_mode": {
    "name": "ipython",
    "version": 3
   },
   "file_extension": ".py",
   "mimetype": "text/x-python",
   "name": "python",
   "nbconvert_exporter": "python",
   "pygments_lexer": "ipython3",
   "version": "3.9.13"
  }
 },
 "nbformat": 4,
 "nbformat_minor": 4
}
